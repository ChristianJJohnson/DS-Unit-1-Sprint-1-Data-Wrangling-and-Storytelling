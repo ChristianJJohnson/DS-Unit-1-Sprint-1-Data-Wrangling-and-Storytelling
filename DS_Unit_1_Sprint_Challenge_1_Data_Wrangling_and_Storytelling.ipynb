{
  "nbformat": 4,
  "nbformat_minor": 0,
  "metadata": {
    "colab": {
      "name": "DS_Unit_1_Sprint_Challenge_1_Data_Wrangling_and_Storytelling.ipynb",
      "provenance": [],
      "collapsed_sections": [],
      "include_colab_link": true
    },
    "kernelspec": {
      "name": "python3",
      "display_name": "Python 3"
    }
  },
  "cells": [
    {
      "cell_type": "markdown",
      "metadata": {
        "id": "view-in-github",
        "colab_type": "text"
      },
      "source": [
        "<a href=\"https://colab.research.google.com/github/ChristianJJohnson/DS-Unit-1-Sprint-1-Data-Wrangling-and-Storytelling/blob/master/DS_Unit_1_Sprint_Challenge_1_Data_Wrangling_and_Storytelling.ipynb\" target=\"_parent\"><img src=\"https://colab.research.google.com/assets/colab-badge.svg\" alt=\"Open In Colab\"/></a>"
      ]
    },
    {
      "cell_type": "markdown",
      "metadata": {
        "id": "2kYJKHpXFbN2",
        "colab_type": "text"
      },
      "source": [
        "# Data Science Unit 1 Sprint Challenge 1\n",
        "\n",
        "## Data Wrangling and Storytelling\n",
        "\n",
        "Taming data from its raw form into informative insights and stories."
      ]
    },
    {
      "cell_type": "markdown",
      "metadata": {
        "id": "qSvL3CeTFk9F",
        "colab_type": "text"
      },
      "source": [
        "## Data Wrangling\n",
        "\n",
        "In this Sprint Challenge you will first \"wrangle\" some data from [Gapminder](https://www.gapminder.org/about-gapminder/), a Swedish non-profit co-founded by Hans Rosling. \"Gapminder produces free teaching resources making the world understandable based on reliable statistics.\"\n",
        "- [Cell phones (total), by country and year](https://raw.githubusercontent.com/open-numbers/ddf--gapminder--systema_globalis/master/ddf--datapoints--cell_phones_total--by--geo--time.csv)\n",
        "- [Population (total), by country and year](https://raw.githubusercontent.com/open-numbers/ddf--gapminder--systema_globalis/master/ddf--datapoints--population_total--by--geo--time.csv)\n",
        "- [Geo country codes](https://github.com/open-numbers/ddf--gapminder--systema_globalis/blob/master/ddf--entities--geo--country.csv)\n",
        "\n",
        "These two links have everything you need to successfully complete the first part of this sprint challenge.\n",
        "- [Pandas documentation: Working with Text Data](https://pandas.pydata.org/pandas-docs/stable/text.html) (one question)\n",
        "- [Pandas Cheat Sheet](https://github.com/pandas-dev/pandas/blob/master/doc/cheatsheet/Pandas_Cheat_Sheet.pdf) (everything else)"
      ]
    },
    {
      "cell_type": "markdown",
      "metadata": {
        "id": "_45iUXguF3cJ",
        "colab_type": "text"
      },
      "source": [
        "### Part 1 - Load and Explore the Data\n",
        "\n",
        "Run the cell below to load the datasets into three dataframes and then follow the instructions below\n"
      ]
    },
    {
      "cell_type": "code",
      "metadata": {
        "id": "4OuxHNZzFpGT",
        "colab_type": "code",
        "colab": {}
      },
      "source": [
        "import pandas as pd\n",
        "pd.set_option('display.precision',10)\n",
        "\n",
        "cell_phones = pd.read_csv('https://raw.githubusercontent.com/open-numbers/ddf--gapminder--systema_globalis/master/ddf--datapoints--cell_phones_total--by--geo--time.csv')\n",
        "\n",
        "population = pd.read_csv('https://raw.githubusercontent.com/open-numbers/ddf--gapminder--systema_globalis/master/ddf--datapoints--population_total--by--geo--time.csv')\n",
        "\n",
        "geo_country_codes = (pd.read_csv('https://raw.githubusercontent.com/open-numbers/ddf--gapminder--systema_globalis/master/ddf--entities--geo--country.csv')\n",
        "                       .rename(columns={'country': 'geo', 'name': 'country'}))\n",
        "\n",
        "geo_country_codes = geo_country_codes[['geo','country']]"
      ],
      "execution_count": 0,
      "outputs": []
    },
    {
      "cell_type": "code",
      "metadata": {
        "id": "EixWLcO-cLa4",
        "colab_type": "code",
        "outputId": "bfb3fea0-1e21-4d26-b957-0d0aa789e6ba",
        "colab": {
          "base_uri": "https://localhost:8080/",
          "height": 204
        }
      },
      "source": [
        "cell_phones.head()"
      ],
      "execution_count": 0,
      "outputs": [
        {
          "output_type": "execute_result",
          "data": {
            "text/html": [
              "<div>\n",
              "<style scoped>\n",
              "    .dataframe tbody tr th:only-of-type {\n",
              "        vertical-align: middle;\n",
              "    }\n",
              "\n",
              "    .dataframe tbody tr th {\n",
              "        vertical-align: top;\n",
              "    }\n",
              "\n",
              "    .dataframe thead th {\n",
              "        text-align: right;\n",
              "    }\n",
              "</style>\n",
              "<table border=\"1\" class=\"dataframe\">\n",
              "  <thead>\n",
              "    <tr style=\"text-align: right;\">\n",
              "      <th></th>\n",
              "      <th>geo</th>\n",
              "      <th>time</th>\n",
              "      <th>cell_phones_total</th>\n",
              "    </tr>\n",
              "  </thead>\n",
              "  <tbody>\n",
              "    <tr>\n",
              "      <th>0</th>\n",
              "      <td>abw</td>\n",
              "      <td>1960</td>\n",
              "      <td>0.0</td>\n",
              "    </tr>\n",
              "    <tr>\n",
              "      <th>1</th>\n",
              "      <td>abw</td>\n",
              "      <td>1965</td>\n",
              "      <td>0.0</td>\n",
              "    </tr>\n",
              "    <tr>\n",
              "      <th>2</th>\n",
              "      <td>abw</td>\n",
              "      <td>1970</td>\n",
              "      <td>0.0</td>\n",
              "    </tr>\n",
              "    <tr>\n",
              "      <th>3</th>\n",
              "      <td>abw</td>\n",
              "      <td>1975</td>\n",
              "      <td>0.0</td>\n",
              "    </tr>\n",
              "    <tr>\n",
              "      <th>4</th>\n",
              "      <td>abw</td>\n",
              "      <td>1976</td>\n",
              "      <td>0.0</td>\n",
              "    </tr>\n",
              "  </tbody>\n",
              "</table>\n",
              "</div>"
            ],
            "text/plain": [
              "   geo  time  cell_phones_total\n",
              "0  abw  1960                0.0\n",
              "1  abw  1965                0.0\n",
              "2  abw  1970                0.0\n",
              "3  abw  1975                0.0\n",
              "4  abw  1976                0.0"
            ]
          },
          "metadata": {
            "tags": []
          },
          "execution_count": 2
        }
      ]
    },
    {
      "cell_type": "markdown",
      "metadata": {
        "id": "49XlFKmVIPl1",
        "colab_type": "text"
      },
      "source": [
        "Check for missing/null values in the three dataframes"
      ]
    },
    {
      "cell_type": "code",
      "metadata": {
        "id": "SwmSvUySJjXc",
        "colab_type": "code",
        "colab": {}
      },
      "source": [
        "def findNulls(df):\n",
        "  print(f\"{df.isnull().sum()}\\n\")\n",
        "  for col in df.columns:\n",
        "    print(df[col].unique())"
      ],
      "execution_count": 0,
      "outputs": []
    },
    {
      "cell_type": "code",
      "metadata": {
        "id": "pokcBwrX7qAF",
        "colab_type": "code",
        "outputId": "ec09acca-1558-48a4-9714-7238cec4bd5d",
        "colab": {
          "base_uri": "https://localhost:8080/",
          "height": 510
        }
      },
      "source": [
        "findNulls(cell_phones)"
      ],
      "execution_count": 0,
      "outputs": [
        {
          "output_type": "stream",
          "text": [
            "geo                  0\n",
            "time                 0\n",
            "cell_phones_total    0\n",
            "dtype: int64\n",
            "\n",
            "['abw' 'afg' 'ago' 'alb' 'and' 'are' 'arg' 'arm' 'asm' 'atg' 'aus' 'aut'\n",
            " 'aze' 'bdi' 'bel' 'ben' 'bfa' 'bgd' 'bgr' 'bhr' 'bhs' 'bih' 'blr' 'blz'\n",
            " 'bmu' 'bol' 'bra' 'brb' 'brn' 'btn' 'bwa' 'caf' 'can' 'che' 'chl' 'chn'\n",
            " 'civ' 'cmr' 'cod' 'cog' 'col' 'com' 'cpv' 'cri' 'cub' 'cym' 'cyp' 'cze'\n",
            " 'deu' 'dji' 'dma' 'dnk' 'dom' 'dza' 'ecu' 'egy' 'eri' 'esp' 'est' 'eth'\n",
            " 'fin' 'fji' 'fra' 'fro' 'fsm' 'gab' 'gbr' 'geo' 'gha' 'gib' 'gin' 'gmb'\n",
            " 'gnb' 'gnq' 'grc' 'grd' 'grl' 'gtm' 'gum' 'guy' 'hkg' 'hnd' 'hrv' 'hti'\n",
            " 'hun' 'idn' 'ind' 'irl' 'irn' 'irq' 'isl' 'isr' 'ita' 'jam' 'jor' 'jpn'\n",
            " 'kaz' 'ken' 'kgz' 'khm' 'kir' 'kna' 'kor' 'kos' 'kwt' 'lao' 'lbn' 'lbr'\n",
            " 'lby' 'lca' 'lie' 'lka' 'lso' 'ltu' 'lux' 'lva' 'mac' 'mar' 'mco' 'mda'\n",
            " 'mdg' 'mdv' 'mex' 'mhl' 'mkd' 'mli' 'mlt' 'mmr' 'mne' 'mng' 'mnp' 'moz'\n",
            " 'mrt' 'mus' 'mwi' 'mys' 'nam' 'ncl' 'ner' 'nga' 'nic' 'nld' 'nld_curacao'\n",
            " 'nor' 'npl' 'nru' 'nzl' 'omn' 'pak' 'pan' 'per' 'phl' 'plw' 'png' 'pol'\n",
            " 'pri' 'prk' 'prt' 'pry' 'pse' 'pyf' 'qat' 'rou' 'rus' 'rwa' 'sau' 'sdn'\n",
            " 'sen' 'sgp' 'slb' 'sle' 'slv' 'smr' 'som' 'srb' 'ssd' 'stp' 'sur' 'svk'\n",
            " 'svn' 'swe' 'swz' 'sxm' 'syc' 'syr' 'tca' 'tcd' 'tgo' 'tha' 'tjk' 'tkm'\n",
            " 'tls' 'ton' 'tto' 'tun' 'tur' 'tuv' 'tza' 'uga' 'ukr' 'ury' 'usa' 'uzb'\n",
            " 'vct' 'ven' 'vgb' 'vir' 'vnm' 'vut' 'wsm' 'yem' 'zaf' 'zmb' 'zwe']\n",
            "[1960 1965 1970 1975 1976 1977 1978 1979 1980 1981 1982 1983 1984 1985\n",
            " 1986 1987 1988 1989 1990 1991 1992 1995 1996 1997 1998 1999 2000 2001\n",
            " 2002 2003 2004 2005 2006 2007 2008 2009 2010 2012 2013 2014 2015 1993\n",
            " 1994 2011 2016 2017]\n",
            "[0.0000000e+00 2.0000000e+01 1.7180000e+03 ... 1.2757410e+07 1.2878926e+07\n",
            " 1.4092104e+07]\n"
          ],
          "name": "stdout"
        }
      ]
    },
    {
      "cell_type": "code",
      "metadata": {
        "id": "DcZbC6XZ7p2M",
        "colab_type": "code",
        "outputId": "c0381dd7-fec1-4030-a5dd-6c522f4b9956",
        "colab": {
          "base_uri": "https://localhost:8080/",
          "height": 782
        }
      },
      "source": [
        "findNulls(population)"
      ],
      "execution_count": 0,
      "outputs": [
        {
          "output_type": "stream",
          "text": [
            "geo                 0\n",
            "time                0\n",
            "population_total    0\n",
            "dtype: int64\n",
            "\n",
            "['afg' 'ago' 'alb' 'and' 'are' 'arg' 'arm' 'atg' 'aus' 'aut' 'aze' 'bdi'\n",
            " 'bel' 'ben' 'bfa' 'bgd' 'bgr' 'bhr' 'bhs' 'bih' 'blr' 'blz' 'bol' 'bra'\n",
            " 'brb' 'brn' 'btn' 'bwa' 'caf' 'can' 'che' 'chl' 'chn' 'civ' 'cmr' 'cod'\n",
            " 'cog' 'col' 'com' 'cpv' 'cri' 'cub' 'cyp' 'cze' 'deu' 'dji' 'dma' 'dnk'\n",
            " 'dom' 'dza' 'ecu' 'egy' 'eri' 'esp' 'est' 'eth' 'fin' 'fji' 'fra' 'fsm'\n",
            " 'gab' 'gbr' 'geo' 'gha' 'gin' 'gmb' 'gnb' 'gnq' 'grc' 'grd' 'gtm' 'guy'\n",
            " 'hkg' 'hnd' 'hos' 'hrv' 'hti' 'hun' 'idn' 'ind' 'irl' 'irn' 'irq' 'isl'\n",
            " 'isr' 'ita' 'jam' 'jor' 'jpn' 'kaz' 'ken' 'kgz' 'khm' 'kir' 'kna' 'kor'\n",
            " 'kwt' 'lao' 'lbn' 'lbr' 'lby' 'lca' 'lie' 'lka' 'lso' 'ltu' 'lux' 'lva'\n",
            " 'mar' 'mco' 'mda' 'mdg' 'mdv' 'mex' 'mhl' 'mkd' 'mli' 'mlt' 'mmr' 'mne'\n",
            " 'mng' 'moz' 'mrt' 'mus' 'mwi' 'mys' 'nam' 'ner' 'nga' 'nic' 'nld' 'nor'\n",
            " 'npl' 'nru' 'nzl' 'omn' 'pak' 'pan' 'per' 'phl' 'plw' 'png' 'pol' 'prk'\n",
            " 'prt' 'pry' 'pse' 'qat' 'rou' 'rus' 'rwa' 'sau' 'sdn' 'sen' 'sgp' 'slb'\n",
            " 'sle' 'slv' 'smr' 'som' 'srb' 'ssd' 'stp' 'sur' 'svk' 'svn' 'swe' 'swz'\n",
            " 'syc' 'syr' 'tcd' 'tgo' 'tha' 'tjk' 'tkm' 'tls' 'ton' 'tto' 'tun' 'tur'\n",
            " 'tuv' 'twn' 'tza' 'uga' 'ukr' 'ury' 'usa' 'uzb' 'vct' 'ven' 'vnm' 'vut'\n",
            " 'wsm' 'yem' 'zaf' 'zmb' 'zwe']\n",
            "[1800 1801 1802 1803 1804 1805 1806 1807 1808 1809 1810 1811 1812 1813\n",
            " 1814 1815 1816 1817 1818 1819 1820 1821 1822 1823 1824 1825 1826 1827\n",
            " 1828 1829 1830 1831 1832 1833 1834 1835 1836 1837 1838 1839 1840 1841\n",
            " 1842 1843 1844 1845 1846 1847 1848 1849 1850 1851 1852 1853 1854 1855\n",
            " 1856 1857 1858 1859 1860 1861 1862 1863 1864 1865 1866 1867 1868 1869\n",
            " 1870 1871 1872 1873 1874 1875 1876 1877 1878 1879 1880 1881 1882 1883\n",
            " 1884 1885 1886 1887 1888 1889 1890 1891 1892 1893 1894 1895 1896 1897\n",
            " 1898 1899 1900 1901 1902 1903 1904 1905 1906 1907 1908 1909 1910 1911\n",
            " 1912 1913 1914 1915 1916 1917 1918 1919 1920 1921 1922 1923 1924 1925\n",
            " 1926 1927 1928 1929 1930 1931 1932 1933 1934 1935 1936 1937 1938 1939\n",
            " 1940 1941 1942 1943 1944 1945 1946 1947 1948 1949 1950 1951 1952 1953\n",
            " 1954 1955 1956 1957 1958 1959 1960 1961 1962 1963 1964 1965 1966 1967\n",
            " 1968 1969 1970 1971 1972 1973 1974 1975 1976 1977 1978 1979 1980 1981\n",
            " 1982 1983 1984 1985 1986 1987 1988 1989 1990 1991 1992 1993 1994 1995\n",
            " 1996 1997 1998 1999 2000 2001 2002 2003 2004 2005 2006 2007 2008 2009\n",
            " 2010 2011 2012 2013 2014 2015 2016 2017 2018 2019 2020 2021 2022 2023\n",
            " 2024 2025 2026 2027 2028 2029 2030 2031 2032 2033 2034 2035 2036 2037\n",
            " 2038 2039 2040 2041 2042 2043 2044 2045 2046 2047 2048 2049 2050 2051\n",
            " 2052 2053 2054 2055 2056 2057 2058 2059 2060 2061 2062 2063 2064 2065\n",
            " 2066 2067 2068 2069 2070 2071 2072 2073 2074 2075 2076 2077 2078 2079\n",
            " 2080 2081 2082 2083 2084 2085 2086 2087 2088 2089 2090 2091 2092 2093\n",
            " 2094 2095 2096 2097 2098 2099 2100]\n",
            "[ 3280000  3280779  3282342 ... 40591626 40642628 40687107]\n"
          ],
          "name": "stdout"
        }
      ]
    },
    {
      "cell_type": "code",
      "metadata": {
        "id": "Okxq-laO7pqx",
        "colab_type": "code",
        "outputId": "0836f8ea-6100-4e45-8036-be8f5fb15308",
        "colab": {
          "base_uri": "https://localhost:8080/",
          "height": 1000
        }
      },
      "source": [
        "findNulls(geo_country_codes)"
      ],
      "execution_count": 0,
      "outputs": [
        {
          "output_type": "stream",
          "text": [
            "geo        0\n",
            "country    0\n",
            "dtype: int64\n",
            "\n",
            "['abkh' 'abw' 'afg' 'ago' 'aia' 'akr_a_dhe' 'ala' 'alb' 'and' 'ant' 'are'\n",
            " 'arg' 'arm' 'asm' 'ata' 'atg' 'aus' 'aut' 'aze' 'bdi' 'bel' 'ben' 'bfa'\n",
            " 'bgd' 'bgr' 'bhr' 'bhs' 'bih' 'blr' 'blz' 'bmu' 'bol' 'bouisl' 'bra'\n",
            " 'brb' 'brn' 'btn' 'bwa' 'caf' 'can' 'cck' 'chanisl' 'che' 'cheslo' 'chl'\n",
            " 'chn' 'civ' 'cmr' 'cod' 'cog' 'cok' 'col' 'com' 'cpv' 'cri' 'cub' 'cxr'\n",
            " 'cym' 'cyp' 'cyp_nor' 'cze' 'deu' 'deu_east' 'deu_west' 'dji' 'dma' 'dnk'\n",
            " 'dom' 'dza' 'ecu' 'egy' 'eri' 'eri_a_eth' 'esh' 'esp' 'est' 'eth' 'fin'\n",
            " 'fji' 'flk' 'fra' 'fra_antarc' 'fra_clipperton' 'fro' 'fsm' 'gab' 'gbg'\n",
            " 'gbm' 'gbr' 'geo' 'gha' 'gib' 'gin' 'glp' 'gmb' 'gnb' 'gnq' 'grc' 'grd'\n",
            " 'grl' 'gtm' 'guf' 'gum' 'guy' 'heard_a_mcd' 'hkg' 'hnd' 'hos' 'hrv' 'hti'\n",
            " 'hun' 'idn' 'ind' 'iot' 'irl' 'irn' 'irq' 'isl' 'isr' 'ita' 'jam' 'jey'\n",
            " 'jor' 'jpn' 'kaz' 'ken' 'kgz' 'khm' 'kir' 'kna' 'kor' 'korea_union' 'kos'\n",
            " 'kwt' 'lao' 'lbn' 'lbr' 'lby' 'lca' 'lie' 'lka' 'lso' 'ltu' 'lux' 'lva'\n",
            " 'mac' 'maf' 'mar' 'mco' 'mda' 'mdg' 'mdv' 'mex' 'mhl' 'mkd' 'mli' 'mlt'\n",
            " 'mmr' 'mne' 'mng' 'mnp' 'moz' 'mrt' 'msr' 'mtq' 'mus' 'mwi' 'mys' 'myt'\n",
            " 'nam' 'ncl' 'ner' 'nfk' 'nga' 'ngokar' 'nic' 'niu' 'nld' 'nld_curacao'\n",
            " 'nor' 'npl' 'nru' 'nzl' 'omn' 'pak' 'pan' 'pcn' 'per' 'phl' 'plw' 'png'\n",
            " 'pol' 'pri' 'prk' 'prt' 'pry' 'pse' 'pse_gaza' 'pse_west_bank' 'pyf'\n",
            " 'qat' 'reu' 'rou' 'rus' 'rwa' 'sau' 'scg' 'scg_ex_kos' 'sdn' 'sen'\n",
            " 'sgero_a_ssandw' 'sgp' 'shn' 'sjm' 'slb' 'sle' 'slv' 'smr' 'som'\n",
            " 'som_somland' 'sosset' 'spm' 'srb' 'ssd' 'stbar' 'stmar' 'stp' 'sur'\n",
            " 'svk' 'svn' 'swe' 'swz' 'sxm' 'syc' 'syr' 'tca' 'tcd' 'tgo' 'tha' 'tjk'\n",
            " 'tkl' 'tkm' 'tls' 'ton' 'transn' 'tto' 'tun' 'tur' 'tuv' 'twn' 'tza'\n",
            " 'uga' 'ukr' 'ury' 'usa' 'usa_minor_out_isl' 'ussr' 'uzb' 'vct' 'ven'\n",
            " 'vgb' 'vir' 'vnm' 'vut' 'wlf' 'wsm' 'yem' 'yem_north' 'yem_south' 'yug'\n",
            " 'zaf' 'zmb' 'zwe']\n",
            "['Abkhazia' 'Aruba' 'Afghanistan' 'Angola' 'Anguilla'\n",
            " 'Akrotiri and Dhekelia' 'Åland' 'Albania' 'Andorra'\n",
            " 'Netherlands Antilles' 'United Arab Emirates' 'Argentina' 'Armenia'\n",
            " 'American Samoa' 'Antarctica' 'Antigua and Barbuda' 'Australia' 'Austria'\n",
            " 'Azerbaijan' 'Burundi' 'Belgium' 'Benin' 'Burkina Faso' 'Bangladesh'\n",
            " 'Bulgaria' 'Bahrain' 'Bahamas' 'Bosnia and Herzegovina' 'Belarus'\n",
            " 'Belize' 'Bermuda' 'Bolivia' 'Bouvet Island' 'Brazil' 'Barbados' 'Brunei'\n",
            " 'Bhutan' 'Botswana' 'Central African Republic' 'Canada' 'Cocos Island'\n",
            " 'Channel Islands' 'Switzerland' 'Czechoslovakia' 'Chile' 'China'\n",
            " \"Cote d'Ivoire\" 'Cameroon' 'Congo, Dem. Rep.' 'Congo, Rep.' 'Cook Is'\n",
            " 'Colombia' 'Comoros' 'Cape Verde' 'Costa Rica' 'Cuba' 'Christmas Island'\n",
            " 'Cayman Islands' 'Cyprus' 'Northern Cyprus' 'Czech Republic' 'Germany'\n",
            " 'East Germany' 'West Germany' 'Djibouti' 'Dominica' 'Denmark'\n",
            " 'Dominican Republic' 'Algeria' 'Ecuador' 'Egypt' 'Eritrea'\n",
            " 'Eritrea and Ethiopia' 'Western Sahara' 'Spain' 'Estonia' 'Ethiopia'\n",
            " 'Finland' 'Fiji' 'Falkland Is (Malvinas)' 'France'\n",
            " 'French Southern and Antarctic Lands' 'Clipperton' 'Faeroe Islands'\n",
            " 'Micronesia, Fed. Sts.' 'Gabon' 'Guernsey' 'Isle of Man' 'United Kingdom'\n",
            " 'Georgia' 'Ghana' 'Gibraltar' 'Guinea' 'Guadeloupe' 'Gambia'\n",
            " 'Guinea-Bissau' 'Equatorial Guinea' 'Greece' 'Grenada' 'Greenland'\n",
            " 'Guatemala' 'French Guiana' 'Guam' 'Guyana' 'Heard and McDonald Islands'\n",
            " 'Hong Kong, China' 'Honduras' 'Holy See' 'Croatia' 'Haiti' 'Hungary'\n",
            " 'Indonesia' 'India' 'British Indian Ocean Territory' 'Ireland' 'Iran'\n",
            " 'Iraq' 'Iceland' 'Israel' 'Italy' 'Jamaica' 'Jersey' 'Jordan' 'Japan'\n",
            " 'Kazakhstan' 'Kenya' 'Kyrgyz Republic' 'Cambodia' 'Kiribati'\n",
            " 'St. Kitts and Nevis' 'South Korea' 'United Korea (former)' 'Kosovo'\n",
            " 'Kuwait' 'Lao' 'Lebanon' 'Liberia' 'Libya' 'St. Lucia' 'Liechtenstein'\n",
            " 'Sri Lanka' 'Lesotho' 'Lithuania' 'Luxembourg' 'Latvia' 'Macao, China'\n",
            " 'St. Martin (French part)' 'Morocco' 'Monaco' 'Moldova' 'Madagascar'\n",
            " 'Maldives' 'Mexico' 'Marshall Islands' 'Macedonia, FYR' 'Mali' 'Malta'\n",
            " 'Myanmar' 'Montenegro' 'Mongolia' 'Northern Mariana Islands' 'Mozambique'\n",
            " 'Mauritania' 'Montserrat' 'Martinique' 'Mauritius' 'Malawi' 'Malaysia'\n",
            " 'Mayotte' 'Namibia' 'New Caledonia' 'Niger' 'Norfolk Island' 'Nigeria'\n",
            " 'Ngorno-Karabakh' 'Nicaragua' 'Niue' 'Netherlands' 'Curaçao' 'Norway'\n",
            " 'Nepal' 'Nauru' 'New Zealand' 'Oman' 'Pakistan' 'Panama' 'Pitcairn'\n",
            " 'Peru' 'Philippines' 'Palau' 'Papua New Guinea' 'Poland' 'Puerto Rico'\n",
            " 'North Korea' 'Portugal' 'Paraguay' 'Palestine' 'Gaza Strip' 'West Bank'\n",
            " 'French Polynesia' 'Qatar' 'Reunion' 'Romania' 'Russia' 'Rwanda'\n",
            " 'Saudi Arabia' 'Serbia and Montenegro' 'Serbia excluding Kosovo' 'Sudan'\n",
            " 'Senegal' 'South Georgia and the South Sandwich Islands' 'Singapore'\n",
            " 'St. Helena' 'Svalbard' 'Solomon Islands' 'Sierra Leone' 'El Salvador'\n",
            " 'San Marino' 'Somalia' 'Somaliland' 'South Ossetia'\n",
            " 'St.-Pierre-et-Miquelon' 'Serbia' 'South Sudan' 'St. Barthélemy'\n",
            " 'St. Martin' 'Sao Tome and Principe' 'Suriname' 'Slovak Republic'\n",
            " 'Slovenia' 'Sweden' 'Swaziland' 'Sint Maarten (Dutch part)' 'Seychelles'\n",
            " 'Syria' 'Turks and Caicos Islands' 'Chad' 'Togo' 'Thailand' 'Tajikistan'\n",
            " 'Tokelau' 'Turkmenistan' 'Timor-Leste' 'Tonga' 'Transnistria'\n",
            " 'Trinidad and Tobago' 'Tunisia' 'Turkey' 'Tuvalu' 'Taiwan' 'Tanzania'\n",
            " 'Uganda' 'Ukraine' 'Uruguay' 'United States' 'US Minor Outlying Islands'\n",
            " 'USSR' 'Uzbekistan' 'St. Vincent and the Grenadines' 'Venezuela'\n",
            " 'British Virgin Islands' 'Virgin Islands (U.S.)' 'Vietnam' 'Vanuatu'\n",
            " 'Wallis et Futuna' 'Samoa' 'Yemen' 'North Yemen (former)'\n",
            " 'South Yemen (former)' 'Yugoslavia' 'South Africa' 'Zambia' 'Zimbabwe']\n"
          ],
          "name": "stdout"
        }
      ]
    },
    {
      "cell_type": "markdown",
      "metadata": {
        "id": "83ovVS6qIWS1",
        "colab_type": "text"
      },
      "source": [
        "Make a scatter plot from the `cell_phones` dataframe plotting \"time\" against \"cell_phones_total\""
      ]
    },
    {
      "cell_type": "code",
      "metadata": {
        "id": "LjMerDF_dViF",
        "colab_type": "code",
        "outputId": "a16309aa-8df4-4364-c6d5-772e69c4a6b5",
        "colab": {
          "base_uri": "https://localhost:8080/",
          "height": 204
        }
      },
      "source": [
        "cell_phones.head()"
      ],
      "execution_count": 0,
      "outputs": [
        {
          "output_type": "execute_result",
          "data": {
            "text/html": [
              "<div>\n",
              "<style scoped>\n",
              "    .dataframe tbody tr th:only-of-type {\n",
              "        vertical-align: middle;\n",
              "    }\n",
              "\n",
              "    .dataframe tbody tr th {\n",
              "        vertical-align: top;\n",
              "    }\n",
              "\n",
              "    .dataframe thead th {\n",
              "        text-align: right;\n",
              "    }\n",
              "</style>\n",
              "<table border=\"1\" class=\"dataframe\">\n",
              "  <thead>\n",
              "    <tr style=\"text-align: right;\">\n",
              "      <th></th>\n",
              "      <th>geo</th>\n",
              "      <th>time</th>\n",
              "      <th>cell_phones_total</th>\n",
              "    </tr>\n",
              "  </thead>\n",
              "  <tbody>\n",
              "    <tr>\n",
              "      <th>0</th>\n",
              "      <td>abw</td>\n",
              "      <td>1960</td>\n",
              "      <td>0.0</td>\n",
              "    </tr>\n",
              "    <tr>\n",
              "      <th>1</th>\n",
              "      <td>abw</td>\n",
              "      <td>1965</td>\n",
              "      <td>0.0</td>\n",
              "    </tr>\n",
              "    <tr>\n",
              "      <th>2</th>\n",
              "      <td>abw</td>\n",
              "      <td>1970</td>\n",
              "      <td>0.0</td>\n",
              "    </tr>\n",
              "    <tr>\n",
              "      <th>3</th>\n",
              "      <td>abw</td>\n",
              "      <td>1975</td>\n",
              "      <td>0.0</td>\n",
              "    </tr>\n",
              "    <tr>\n",
              "      <th>4</th>\n",
              "      <td>abw</td>\n",
              "      <td>1976</td>\n",
              "      <td>0.0</td>\n",
              "    </tr>\n",
              "  </tbody>\n",
              "</table>\n",
              "</div>"
            ],
            "text/plain": [
              "   geo  time  cell_phones_total\n",
              "0  abw  1960                0.0\n",
              "1  abw  1965                0.0\n",
              "2  abw  1970                0.0\n",
              "3  abw  1975                0.0\n",
              "4  abw  1976                0.0"
            ]
          },
          "metadata": {
            "tags": []
          },
          "execution_count": 7
        }
      ]
    },
    {
      "cell_type": "code",
      "metadata": {
        "id": "ewdGy4NfG9vA",
        "colab_type": "code",
        "outputId": "dbc53dff-609e-46d6-bed1-4e5a8ac6dd8a",
        "colab": {
          "base_uri": "https://localhost:8080/",
          "height": 263
        }
      },
      "source": [
        "cell_phones.plot(kind='scatter', x='time', y='cell_phones_total', figsize=(9,3.5));"
      ],
      "execution_count": 0,
      "outputs": [
        {
          "output_type": "display_data",
          "data": {
            "image/png": "[encoded data removed]",
            "text/plain": [
              "<Figure size 648x252 with 1 Axes>"
            ]
          },
          "metadata": {
            "tags": []
          }
        }
      ]
    },
    {
      "cell_type": "markdown",
      "metadata": {
        "id": "IvJMtxmBI27k",
        "colab_type": "text"
      },
      "source": [
        "### Part 2 - Join data\n",
        "\n",
        "First, join the `cell_phones` and `population` dataframes (with an inner join on `geo` and `time`).\n",
        "\n",
        "The resulting dataframe's shape should be: (8590, 4)"
      ]
    },
    {
      "cell_type": "code",
      "metadata": {
        "id": "ItZVtofpAd38",
        "colab_type": "code",
        "outputId": "6b4c2207-742f-4979-dd7f-45cb54c8f1ec",
        "colab": {
          "base_uri": "https://localhost:8080/",
          "height": 204
        }
      },
      "source": [
        "cell_phones.head()"
      ],
      "execution_count": 0,
      "outputs": [
        {
          "output_type": "execute_result",
          "data": {
            "text/html": [
              "<div>\n",
              "<style scoped>\n",
              "    .dataframe tbody tr th:only-of-type {\n",
              "        vertical-align: middle;\n",
              "    }\n",
              "\n",
              "    .dataframe tbody tr th {\n",
              "        vertical-align: top;\n",
              "    }\n",
              "\n",
              "    .dataframe thead th {\n",
              "        text-align: right;\n",
              "    }\n",
              "</style>\n",
              "<table border=\"1\" class=\"dataframe\">\n",
              "  <thead>\n",
              "    <tr style=\"text-align: right;\">\n",
              "      <th></th>\n",
              "      <th>geo</th>\n",
              "      <th>time</th>\n",
              "      <th>cell_phones_total</th>\n",
              "    </tr>\n",
              "  </thead>\n",
              "  <tbody>\n",
              "    <tr>\n",
              "      <th>0</th>\n",
              "      <td>abw</td>\n",
              "      <td>1960</td>\n",
              "      <td>0.0</td>\n",
              "    </tr>\n",
              "    <tr>\n",
              "      <th>1</th>\n",
              "      <td>abw</td>\n",
              "      <td>1965</td>\n",
              "      <td>0.0</td>\n",
              "    </tr>\n",
              "    <tr>\n",
              "      <th>2</th>\n",
              "      <td>abw</td>\n",
              "      <td>1970</td>\n",
              "      <td>0.0</td>\n",
              "    </tr>\n",
              "    <tr>\n",
              "      <th>3</th>\n",
              "      <td>abw</td>\n",
              "      <td>1975</td>\n",
              "      <td>0.0</td>\n",
              "    </tr>\n",
              "    <tr>\n",
              "      <th>4</th>\n",
              "      <td>abw</td>\n",
              "      <td>1976</td>\n",
              "      <td>0.0</td>\n",
              "    </tr>\n",
              "  </tbody>\n",
              "</table>\n",
              "</div>"
            ],
            "text/plain": [
              "   geo  time  cell_phones_total\n",
              "0  abw  1960                0.0\n",
              "1  abw  1965                0.0\n",
              "2  abw  1970                0.0\n",
              "3  abw  1975                0.0\n",
              "4  abw  1976                0.0"
            ]
          },
          "metadata": {
            "tags": []
          },
          "execution_count": 9
        }
      ]
    },
    {
      "cell_type": "code",
      "metadata": {
        "id": "2cedCtUgAgcD",
        "colab_type": "code",
        "outputId": "52687b6c-164b-4ec1-d2ec-3c90d9907265",
        "colab": {
          "base_uri": "https://localhost:8080/",
          "height": 204
        }
      },
      "source": [
        "population.head()"
      ],
      "execution_count": 0,
      "outputs": [
        {
          "output_type": "execute_result",
          "data": {
            "text/html": [
              "<div>\n",
              "<style scoped>\n",
              "    .dataframe tbody tr th:only-of-type {\n",
              "        vertical-align: middle;\n",
              "    }\n",
              "\n",
              "    .dataframe tbody tr th {\n",
              "        vertical-align: top;\n",
              "    }\n",
              "\n",
              "    .dataframe thead th {\n",
              "        text-align: right;\n",
              "    }\n",
              "</style>\n",
              "<table border=\"1\" class=\"dataframe\">\n",
              "  <thead>\n",
              "    <tr style=\"text-align: right;\">\n",
              "      <th></th>\n",
              "      <th>geo</th>\n",
              "      <th>time</th>\n",
              "      <th>population_total</th>\n",
              "    </tr>\n",
              "  </thead>\n",
              "  <tbody>\n",
              "    <tr>\n",
              "      <th>0</th>\n",
              "      <td>afg</td>\n",
              "      <td>1800</td>\n",
              "      <td>3280000</td>\n",
              "    </tr>\n",
              "    <tr>\n",
              "      <th>1</th>\n",
              "      <td>afg</td>\n",
              "      <td>1801</td>\n",
              "      <td>3280000</td>\n",
              "    </tr>\n",
              "    <tr>\n",
              "      <th>2</th>\n",
              "      <td>afg</td>\n",
              "      <td>1802</td>\n",
              "      <td>3280000</td>\n",
              "    </tr>\n",
              "    <tr>\n",
              "      <th>3</th>\n",
              "      <td>afg</td>\n",
              "      <td>1803</td>\n",
              "      <td>3280000</td>\n",
              "    </tr>\n",
              "    <tr>\n",
              "      <th>4</th>\n",
              "      <td>afg</td>\n",
              "      <td>1804</td>\n",
              "      <td>3280000</td>\n",
              "    </tr>\n",
              "  </tbody>\n",
              "</table>\n",
              "</div>"
            ],
            "text/plain": [
              "   geo  time  population_total\n",
              "0  afg  1800           3280000\n",
              "1  afg  1801           3280000\n",
              "2  afg  1802           3280000\n",
              "3  afg  1803           3280000\n",
              "4  afg  1804           3280000"
            ]
          },
          "metadata": {
            "tags": []
          },
          "execution_count": 10
        }
      ]
    },
    {
      "cell_type": "code",
      "metadata": {
        "id": "MFMA06QjG1KT",
        "colab_type": "code",
        "colab": {}
      },
      "source": [
        "cell_population = pd.merge(cell_phones, population, on=['geo', 'time'], how='inner')"
      ],
      "execution_count": 0,
      "outputs": []
    },
    {
      "cell_type": "code",
      "metadata": {
        "id": "BbEPSDqr_zvR",
        "colab_type": "code",
        "outputId": "e5f6d405-0f23-4928-fe79-129973f760f8",
        "colab": {
          "base_uri": "https://localhost:8080/",
          "height": 34
        }
      },
      "source": [
        "cell_population.shape"
      ],
      "execution_count": 0,
      "outputs": [
        {
          "output_type": "execute_result",
          "data": {
            "text/plain": [
              "(8590, 4)"
            ]
          },
          "metadata": {
            "tags": []
          },
          "execution_count": 12
        }
      ]
    },
    {
      "cell_type": "code",
      "metadata": {
        "id": "DXVGAdej_jpO",
        "colab_type": "code",
        "outputId": "38c2ad7c-0f79-4cc8-c98a-91dbbf9d6cad",
        "colab": {
          "base_uri": "https://localhost:8080/",
          "height": 359
        }
      },
      "source": [
        "cell_population.sample(10)"
      ],
      "execution_count": 0,
      "outputs": [
        {
          "output_type": "execute_result",
          "data": {
            "text/html": [
              "<div>\n",
              "<style scoped>\n",
              "    .dataframe tbody tr th:only-of-type {\n",
              "        vertical-align: middle;\n",
              "    }\n",
              "\n",
              "    .dataframe tbody tr th {\n",
              "        vertical-align: top;\n",
              "    }\n",
              "\n",
              "    .dataframe thead th {\n",
              "        text-align: right;\n",
              "    }\n",
              "</style>\n",
              "<table border=\"1\" class=\"dataframe\">\n",
              "  <thead>\n",
              "    <tr style=\"text-align: right;\">\n",
              "      <th></th>\n",
              "      <th>geo</th>\n",
              "      <th>time</th>\n",
              "      <th>cell_phones_total</th>\n",
              "      <th>population_total</th>\n",
              "    </tr>\n",
              "  </thead>\n",
              "  <tbody>\n",
              "    <tr>\n",
              "      <th>2788</th>\n",
              "      <td>gbr</td>\n",
              "      <td>1988</td>\n",
              "      <td>560000.0</td>\n",
              "      <td>56862893</td>\n",
              "    </tr>\n",
              "    <tr>\n",
              "      <th>3779</th>\n",
              "      <td>isl</td>\n",
              "      <td>2017</td>\n",
              "      <td>410662.0</td>\n",
              "      <td>335025</td>\n",
              "    </tr>\n",
              "    <tr>\n",
              "      <th>3661</th>\n",
              "      <td>irn</td>\n",
              "      <td>1991</td>\n",
              "      <td>0.0</td>\n",
              "      <td>57375584</td>\n",
              "    </tr>\n",
              "    <tr>\n",
              "      <th>6843</th>\n",
              "      <td>sgp</td>\n",
              "      <td>2016</td>\n",
              "      <td>8460700.0</td>\n",
              "      <td>5622455</td>\n",
              "    </tr>\n",
              "    <tr>\n",
              "      <th>2699</th>\n",
              "      <td>fsm</td>\n",
              "      <td>1990</td>\n",
              "      <td>0.0</td>\n",
              "      <td>96331</td>\n",
              "    </tr>\n",
              "    <tr>\n",
              "      <th>1818</th>\n",
              "      <td>cri</td>\n",
              "      <td>1975</td>\n",
              "      <td>0.0</td>\n",
              "      <td>2097407</td>\n",
              "    </tr>\n",
              "    <tr>\n",
              "      <th>5422</th>\n",
              "      <td>moz</td>\n",
              "      <td>2012</td>\n",
              "      <td>8804986.0</td>\n",
              "      <td>25676606</td>\n",
              "    </tr>\n",
              "    <tr>\n",
              "      <th>4273</th>\n",
              "      <td>kor</td>\n",
              "      <td>1983</td>\n",
              "      <td>0.0</td>\n",
              "      <td>39752024</td>\n",
              "    </tr>\n",
              "    <tr>\n",
              "      <th>5784</th>\n",
              "      <td>nic</td>\n",
              "      <td>2007</td>\n",
              "      <td>2502281.0</td>\n",
              "      <td>5522106</td>\n",
              "    </tr>\n",
              "    <tr>\n",
              "      <th>5958</th>\n",
              "      <td>nru</td>\n",
              "      <td>1998</td>\n",
              "      <td>850.0</td>\n",
              "      <td>10046</td>\n",
              "    </tr>\n",
              "  </tbody>\n",
              "</table>\n",
              "</div>"
            ],
            "text/plain": [
              "      geo  time  cell_phones_total  population_total\n",
              "2788  gbr  1988           560000.0          56862893\n",
              "3779  isl  2017           410662.0            335025\n",
              "3661  irn  1991                0.0          57375584\n",
              "6843  sgp  2016          8460700.0           5622455\n",
              "2699  fsm  1990                0.0             96331\n",
              "1818  cri  1975                0.0           2097407\n",
              "5422  moz  2012          8804986.0          25676606\n",
              "4273  kor  1983                0.0          39752024\n",
              "5784  nic  2007          2502281.0           5522106\n",
              "5958  nru  1998              850.0             10046"
            ]
          },
          "metadata": {
            "tags": []
          },
          "execution_count": 13
        }
      ]
    },
    {
      "cell_type": "markdown",
      "metadata": {
        "id": "lziNWF2eJZwC",
        "colab_type": "text"
      },
      "source": [
        "Then, select the `geo` and `country` columns from the `geo_country_codes` dataframe, and join with your population and cell phone data.\n",
        "\n",
        "The resulting dataframe's shape should be: (8590, 5)"
      ]
    },
    {
      "cell_type": "code",
      "metadata": {
        "id": "LXLKDGckATJ2",
        "colab_type": "code",
        "outputId": "30eaa5fc-12c1-4679-ea3f-3bb03dfba6b2",
        "colab": {
          "base_uri": "https://localhost:8080/",
          "height": 204
        }
      },
      "source": [
        "geo_country_codes.head()"
      ],
      "execution_count": 0,
      "outputs": [
        {
          "output_type": "execute_result",
          "data": {
            "text/html": [
              "<div>\n",
              "<style scoped>\n",
              "    .dataframe tbody tr th:only-of-type {\n",
              "        vertical-align: middle;\n",
              "    }\n",
              "\n",
              "    .dataframe tbody tr th {\n",
              "        vertical-align: top;\n",
              "    }\n",
              "\n",
              "    .dataframe thead th {\n",
              "        text-align: right;\n",
              "    }\n",
              "</style>\n",
              "<table border=\"1\" class=\"dataframe\">\n",
              "  <thead>\n",
              "    <tr style=\"text-align: right;\">\n",
              "      <th></th>\n",
              "      <th>geo</th>\n",
              "      <th>country</th>\n",
              "    </tr>\n",
              "  </thead>\n",
              "  <tbody>\n",
              "    <tr>\n",
              "      <th>0</th>\n",
              "      <td>abkh</td>\n",
              "      <td>Abkhazia</td>\n",
              "    </tr>\n",
              "    <tr>\n",
              "      <th>1</th>\n",
              "      <td>abw</td>\n",
              "      <td>Aruba</td>\n",
              "    </tr>\n",
              "    <tr>\n",
              "      <th>2</th>\n",
              "      <td>afg</td>\n",
              "      <td>Afghanistan</td>\n",
              "    </tr>\n",
              "    <tr>\n",
              "      <th>3</th>\n",
              "      <td>ago</td>\n",
              "      <td>Angola</td>\n",
              "    </tr>\n",
              "    <tr>\n",
              "      <th>4</th>\n",
              "      <td>aia</td>\n",
              "      <td>Anguilla</td>\n",
              "    </tr>\n",
              "  </tbody>\n",
              "</table>\n",
              "</div>"
            ],
            "text/plain": [
              "    geo      country\n",
              "0  abkh     Abkhazia\n",
              "1   abw        Aruba\n",
              "2   afg  Afghanistan\n",
              "3   ago       Angola\n",
              "4   aia     Anguilla"
            ]
          },
          "metadata": {
            "tags": []
          },
          "execution_count": 14
        }
      ]
    },
    {
      "cell_type": "code",
      "metadata": {
        "id": "KQa2Jw9gJa-g",
        "colab_type": "code",
        "colab": {}
      },
      "source": [
        "dPhone = pd.merge(geo_country_codes, cell_population, on='geo', how='inner')"
      ],
      "execution_count": 0,
      "outputs": []
    },
    {
      "cell_type": "code",
      "metadata": {
        "id": "4vtTqtXSAzTq",
        "colab_type": "code",
        "outputId": "ff78ed05-dd47-4208-a5cd-cd66467d9e27",
        "colab": {
          "base_uri": "https://localhost:8080/",
          "height": 34
        }
      },
      "source": [
        "dPhone.shape"
      ],
      "execution_count": 0,
      "outputs": [
        {
          "output_type": "execute_result",
          "data": {
            "text/plain": [
              "(8590, 5)"
            ]
          },
          "metadata": {
            "tags": []
          },
          "execution_count": 16
        }
      ]
    },
    {
      "cell_type": "code",
      "metadata": {
        "id": "uvl38lP4DFlg",
        "colab_type": "code",
        "colab": {}
      },
      "source": [
        "dPhone = dPhone.sort_values(by=['country', 'time']).reset_index().drop(['index'], axis=1)"
      ],
      "execution_count": 0,
      "outputs": []
    },
    {
      "cell_type": "code",
      "metadata": {
        "id": "pOVw8UMSgayH",
        "colab_type": "code",
        "colab": {}
      },
      "source": [
        "# make geo uppercase\n",
        "dPhone['geo'] = dPhone['geo'].str.upper() "
      ],
      "execution_count": 0,
      "outputs": []
    },
    {
      "cell_type": "code",
      "metadata": {
        "id": "OtmwFcXgA4RT",
        "colab_type": "code",
        "outputId": "b90a096e-ea5d-4f57-cc54-872db8639376",
        "colab": {
          "base_uri": "https://localhost:8080/",
          "height": 359
        }
      },
      "source": [
        "dPhone.head(10)"
      ],
      "execution_count": 0,
      "outputs": [
        {
          "output_type": "execute_result",
          "data": {
            "text/html": [
              "<div>\n",
              "<style scoped>\n",
              "    .dataframe tbody tr th:only-of-type {\n",
              "        vertical-align: middle;\n",
              "    }\n",
              "\n",
              "    .dataframe tbody tr th {\n",
              "        vertical-align: top;\n",
              "    }\n",
              "\n",
              "    .dataframe thead th {\n",
              "        text-align: right;\n",
              "    }\n",
              "</style>\n",
              "<table border=\"1\" class=\"dataframe\">\n",
              "  <thead>\n",
              "    <tr style=\"text-align: right;\">\n",
              "      <th></th>\n",
              "      <th>geo</th>\n",
              "      <th>country</th>\n",
              "      <th>time</th>\n",
              "      <th>cell_phones_total</th>\n",
              "      <th>population_total</th>\n",
              "    </tr>\n",
              "  </thead>\n",
              "  <tbody>\n",
              "    <tr>\n",
              "      <th>0</th>\n",
              "      <td>AFG</td>\n",
              "      <td>Afghanistan</td>\n",
              "      <td>1960</td>\n",
              "      <td>0.0</td>\n",
              "      <td>8996351</td>\n",
              "    </tr>\n",
              "    <tr>\n",
              "      <th>1</th>\n",
              "      <td>AFG</td>\n",
              "      <td>Afghanistan</td>\n",
              "      <td>1965</td>\n",
              "      <td>0.0</td>\n",
              "      <td>9938414</td>\n",
              "    </tr>\n",
              "    <tr>\n",
              "      <th>2</th>\n",
              "      <td>AFG</td>\n",
              "      <td>Afghanistan</td>\n",
              "      <td>1970</td>\n",
              "      <td>0.0</td>\n",
              "      <td>11126123</td>\n",
              "    </tr>\n",
              "    <tr>\n",
              "      <th>3</th>\n",
              "      <td>AFG</td>\n",
              "      <td>Afghanistan</td>\n",
              "      <td>1975</td>\n",
              "      <td>0.0</td>\n",
              "      <td>12590286</td>\n",
              "    </tr>\n",
              "    <tr>\n",
              "      <th>4</th>\n",
              "      <td>AFG</td>\n",
              "      <td>Afghanistan</td>\n",
              "      <td>1976</td>\n",
              "      <td>0.0</td>\n",
              "      <td>12840299</td>\n",
              "    </tr>\n",
              "    <tr>\n",
              "      <th>5</th>\n",
              "      <td>AFG</td>\n",
              "      <td>Afghanistan</td>\n",
              "      <td>1977</td>\n",
              "      <td>0.0</td>\n",
              "      <td>13067538</td>\n",
              "    </tr>\n",
              "    <tr>\n",
              "      <th>6</th>\n",
              "      <td>AFG</td>\n",
              "      <td>Afghanistan</td>\n",
              "      <td>1978</td>\n",
              "      <td>0.0</td>\n",
              "      <td>13237734</td>\n",
              "    </tr>\n",
              "    <tr>\n",
              "      <th>7</th>\n",
              "      <td>AFG</td>\n",
              "      <td>Afghanistan</td>\n",
              "      <td>1979</td>\n",
              "      <td>0.0</td>\n",
              "      <td>13306695</td>\n",
              "    </tr>\n",
              "    <tr>\n",
              "      <th>8</th>\n",
              "      <td>AFG</td>\n",
              "      <td>Afghanistan</td>\n",
              "      <td>1980</td>\n",
              "      <td>0.0</td>\n",
              "      <td>13248370</td>\n",
              "    </tr>\n",
              "    <tr>\n",
              "      <th>9</th>\n",
              "      <td>AFG</td>\n",
              "      <td>Afghanistan</td>\n",
              "      <td>1981</td>\n",
              "      <td>0.0</td>\n",
              "      <td>13053954</td>\n",
              "    </tr>\n",
              "  </tbody>\n",
              "</table>\n",
              "</div>"
            ],
            "text/plain": [
              "   geo      country  time  cell_phones_total  population_total\n",
              "0  AFG  Afghanistan  1960                0.0           8996351\n",
              "1  AFG  Afghanistan  1965                0.0           9938414\n",
              "2  AFG  Afghanistan  1970                0.0          11126123\n",
              "3  AFG  Afghanistan  1975                0.0          12590286\n",
              "4  AFG  Afghanistan  1976                0.0          12840299\n",
              "5  AFG  Afghanistan  1977                0.0          13067538\n",
              "6  AFG  Afghanistan  1978                0.0          13237734\n",
              "7  AFG  Afghanistan  1979                0.0          13306695\n",
              "8  AFG  Afghanistan  1980                0.0          13248370\n",
              "9  AFG  Afghanistan  1981                0.0          13053954"
            ]
          },
          "metadata": {
            "tags": []
          },
          "execution_count": 19
        }
      ]
    },
    {
      "cell_type": "markdown",
      "metadata": {
        "id": "8xjRfkOjKECI",
        "colab_type": "text"
      },
      "source": [
        "### Part 3 - Make features\n",
        "\n",
        "Calculate the number of cell phones per person, and add this column onto your dataframe.\n",
        "\n",
        "(You've calculated correctly if you get 1.220 cell phones per person in the United States in 2017.)"
      ]
    },
    {
      "cell_type": "code",
      "metadata": {
        "id": "lOgLvqCQKFwY",
        "colab_type": "code",
        "colab": {}
      },
      "source": [
        "dPhone['cell_phones_per_person'] = dPhone['cell_phones_total']/dPhone['population_total']"
      ],
      "execution_count": 0,
      "outputs": []
    },
    {
      "cell_type": "code",
      "metadata": {
        "id": "i97JVktvFc9V",
        "colab_type": "code",
        "outputId": "b9347124-2774-482e-fc27-8f1c220172d1",
        "colab": {
          "base_uri": "https://localhost:8080/",
          "height": 1000
        }
      },
      "source": [
        "dPhone.loc[dPhone['country'] == 'United States']"
      ],
      "execution_count": 0,
      "outputs": [
        {
          "output_type": "execute_result",
          "data": {
            "text/html": [
              "<div>\n",
              "<style scoped>\n",
              "    .dataframe tbody tr th:only-of-type {\n",
              "        vertical-align: middle;\n",
              "    }\n",
              "\n",
              "    .dataframe tbody tr th {\n",
              "        vertical-align: top;\n",
              "    }\n",
              "\n",
              "    .dataframe thead th {\n",
              "        text-align: right;\n",
              "    }\n",
              "</style>\n",
              "<table border=\"1\" class=\"dataframe\">\n",
              "  <thead>\n",
              "    <tr style=\"text-align: right;\">\n",
              "      <th></th>\n",
              "      <th>geo</th>\n",
              "      <th>country</th>\n",
              "      <th>time</th>\n",
              "      <th>cell_phones_total</th>\n",
              "      <th>population_total</th>\n",
              "      <th>cell_phones_per_person</th>\n",
              "    </tr>\n",
              "  </thead>\n",
              "  <tbody>\n",
              "    <tr>\n",
              "      <th>8180</th>\n",
              "      <td>USA</td>\n",
              "      <td>United States</td>\n",
              "      <td>1960</td>\n",
              "      <td>0.0</td>\n",
              "      <td>186808228</td>\n",
              "      <td>0.0000000000</td>\n",
              "    </tr>\n",
              "    <tr>\n",
              "      <th>8181</th>\n",
              "      <td>USA</td>\n",
              "      <td>United States</td>\n",
              "      <td>1965</td>\n",
              "      <td>0.0</td>\n",
              "      <td>199815540</td>\n",
              "      <td>0.0000000000</td>\n",
              "    </tr>\n",
              "    <tr>\n",
              "      <th>8182</th>\n",
              "      <td>USA</td>\n",
              "      <td>United States</td>\n",
              "      <td>1970</td>\n",
              "      <td>0.0</td>\n",
              "      <td>209588150</td>\n",
              "      <td>0.0000000000</td>\n",
              "    </tr>\n",
              "    <tr>\n",
              "      <th>8183</th>\n",
              "      <td>USA</td>\n",
              "      <td>United States</td>\n",
              "      <td>1975</td>\n",
              "      <td>0.0</td>\n",
              "      <td>219205296</td>\n",
              "      <td>0.0000000000</td>\n",
              "    </tr>\n",
              "    <tr>\n",
              "      <th>8184</th>\n",
              "      <td>USA</td>\n",
              "      <td>United States</td>\n",
              "      <td>1976</td>\n",
              "      <td>0.0</td>\n",
              "      <td>221239215</td>\n",
              "      <td>0.0000000000</td>\n",
              "    </tr>\n",
              "    <tr>\n",
              "      <th>8185</th>\n",
              "      <td>USA</td>\n",
              "      <td>United States</td>\n",
              "      <td>1977</td>\n",
              "      <td>0.0</td>\n",
              "      <td>223324042</td>\n",
              "      <td>0.0000000000</td>\n",
              "    </tr>\n",
              "    <tr>\n",
              "      <th>8186</th>\n",
              "      <td>USA</td>\n",
              "      <td>United States</td>\n",
              "      <td>1978</td>\n",
              "      <td>0.0</td>\n",
              "      <td>225449657</td>\n",
              "      <td>0.0000000000</td>\n",
              "    </tr>\n",
              "    <tr>\n",
              "      <th>8187</th>\n",
              "      <td>USA</td>\n",
              "      <td>United States</td>\n",
              "      <td>1979</td>\n",
              "      <td>0.0</td>\n",
              "      <td>227599878</td>\n",
              "      <td>0.0000000000</td>\n",
              "    </tr>\n",
              "    <tr>\n",
              "      <th>8188</th>\n",
              "      <td>USA</td>\n",
              "      <td>United States</td>\n",
              "      <td>1980</td>\n",
              "      <td>0.0</td>\n",
              "      <td>229763052</td>\n",
              "      <td>0.0000000000</td>\n",
              "    </tr>\n",
              "    <tr>\n",
              "      <th>8189</th>\n",
              "      <td>USA</td>\n",
              "      <td>United States</td>\n",
              "      <td>1984</td>\n",
              "      <td>91600.0</td>\n",
              "      <td>238573861</td>\n",
              "      <td>0.0003839482</td>\n",
              "    </tr>\n",
              "    <tr>\n",
              "      <th>8190</th>\n",
              "      <td>USA</td>\n",
              "      <td>United States</td>\n",
              "      <td>1985</td>\n",
              "      <td>340213.0</td>\n",
              "      <td>240824120</td>\n",
              "      <td>0.0014127032</td>\n",
              "    </tr>\n",
              "    <tr>\n",
              "      <th>8191</th>\n",
              "      <td>USA</td>\n",
              "      <td>United States</td>\n",
              "      <td>1986</td>\n",
              "      <td>681825.0</td>\n",
              "      <td>243098935</td>\n",
              "      <td>0.0028047223</td>\n",
              "    </tr>\n",
              "    <tr>\n",
              "      <th>8192</th>\n",
              "      <td>USA</td>\n",
              "      <td>United States</td>\n",
              "      <td>1987</td>\n",
              "      <td>1230855.0</td>\n",
              "      <td>245402864</td>\n",
              "      <td>0.0050156505</td>\n",
              "    </tr>\n",
              "    <tr>\n",
              "      <th>8193</th>\n",
              "      <td>USA</td>\n",
              "      <td>United States</td>\n",
              "      <td>1988</td>\n",
              "      <td>2069441.0</td>\n",
              "      <td>247739582</td>\n",
              "      <td>0.0083532917</td>\n",
              "    </tr>\n",
              "    <tr>\n",
              "      <th>8194</th>\n",
              "      <td>USA</td>\n",
              "      <td>United States</td>\n",
              "      <td>1989</td>\n",
              "      <td>3508944.0</td>\n",
              "      <td>250113187</td>\n",
              "      <td>0.0140294242</td>\n",
              "    </tr>\n",
              "    <tr>\n",
              "      <th>8195</th>\n",
              "      <td>USA</td>\n",
              "      <td>United States</td>\n",
              "      <td>1990</td>\n",
              "      <td>5283055.0</td>\n",
              "      <td>252529950</td>\n",
              "      <td>0.0209205086</td>\n",
              "    </tr>\n",
              "    <tr>\n",
              "      <th>8196</th>\n",
              "      <td>USA</td>\n",
              "      <td>United States</td>\n",
              "      <td>1991</td>\n",
              "      <td>7557148.0</td>\n",
              "      <td>254974819</td>\n",
              "      <td>0.0296388013</td>\n",
              "    </tr>\n",
              "    <tr>\n",
              "      <th>8197</th>\n",
              "      <td>USA</td>\n",
              "      <td>United States</td>\n",
              "      <td>1992</td>\n",
              "      <td>11032753.0</td>\n",
              "      <td>257454273</td>\n",
              "      <td>0.0428532526</td>\n",
              "    </tr>\n",
              "    <tr>\n",
              "      <th>8198</th>\n",
              "      <td>USA</td>\n",
              "      <td>United States</td>\n",
              "      <td>1993</td>\n",
              "      <td>16009461.0</td>\n",
              "      <td>260020186</td>\n",
              "      <td>0.0615700698</td>\n",
              "    </tr>\n",
              "    <tr>\n",
              "      <th>8199</th>\n",
              "      <td>USA</td>\n",
              "      <td>United States</td>\n",
              "      <td>1994</td>\n",
              "      <td>24134421.0</td>\n",
              "      <td>262741566</td>\n",
              "      <td>0.0918561207</td>\n",
              "    </tr>\n",
              "    <tr>\n",
              "      <th>8200</th>\n",
              "      <td>USA</td>\n",
              "      <td>United States</td>\n",
              "      <td>1995</td>\n",
              "      <td>33785661.0</td>\n",
              "      <td>265658849</td>\n",
              "      <td>0.1271768704</td>\n",
              "    </tr>\n",
              "    <tr>\n",
              "      <th>8201</th>\n",
              "      <td>USA</td>\n",
              "      <td>United States</td>\n",
              "      <td>1996</td>\n",
              "      <td>44042992.0</td>\n",
              "      <td>268803424</td>\n",
              "      <td>0.1638483296</td>\n",
              "    </tr>\n",
              "    <tr>\n",
              "      <th>8202</th>\n",
              "      <td>USA</td>\n",
              "      <td>United States</td>\n",
              "      <td>1997</td>\n",
              "      <td>55312293.0</td>\n",
              "      <td>272136551</td>\n",
              "      <td>0.2032519807</td>\n",
              "    </tr>\n",
              "    <tr>\n",
              "      <th>8203</th>\n",
              "      <td>USA</td>\n",
              "      <td>United States</td>\n",
              "      <td>1998</td>\n",
              "      <td>69209321.0</td>\n",
              "      <td>275542603</td>\n",
              "      <td>0.2511746650</td>\n",
              "    </tr>\n",
              "    <tr>\n",
              "      <th>8204</th>\n",
              "      <td>USA</td>\n",
              "      <td>United States</td>\n",
              "      <td>1999</td>\n",
              "      <td>86047003.0</td>\n",
              "      <td>278862277</td>\n",
              "      <td>0.3085645141</td>\n",
              "    </tr>\n",
              "    <tr>\n",
              "      <th>8205</th>\n",
              "      <td>USA</td>\n",
              "      <td>United States</td>\n",
              "      <td>2000</td>\n",
              "      <td>109478031.0</td>\n",
              "      <td>281982778</td>\n",
              "      <td>0.3882436785</td>\n",
              "    </tr>\n",
              "    <tr>\n",
              "      <th>8206</th>\n",
              "      <td>USA</td>\n",
              "      <td>United States</td>\n",
              "      <td>2001</td>\n",
              "      <td>128500000.0</td>\n",
              "      <td>284852391</td>\n",
              "      <td>0.4511108352</td>\n",
              "    </tr>\n",
              "    <tr>\n",
              "      <th>8207</th>\n",
              "      <td>USA</td>\n",
              "      <td>United States</td>\n",
              "      <td>2002</td>\n",
              "      <td>141800000.0</td>\n",
              "      <td>287506847</td>\n",
              "      <td>0.4932056453</td>\n",
              "    </tr>\n",
              "    <tr>\n",
              "      <th>8208</th>\n",
              "      <td>USA</td>\n",
              "      <td>United States</td>\n",
              "      <td>2003</td>\n",
              "      <td>160637000.0</td>\n",
              "      <td>290027624</td>\n",
              "      <td>0.5538679309</td>\n",
              "    </tr>\n",
              "    <tr>\n",
              "      <th>8209</th>\n",
              "      <td>USA</td>\n",
              "      <td>United States</td>\n",
              "      <td>2004</td>\n",
              "      <td>184819000.0</td>\n",
              "      <td>292539324</td>\n",
              "      <td>0.6317748926</td>\n",
              "    </tr>\n",
              "    <tr>\n",
              "      <th>8210</th>\n",
              "      <td>USA</td>\n",
              "      <td>United States</td>\n",
              "      <td>2005</td>\n",
              "      <td>203700000.0</td>\n",
              "      <td>295129501</td>\n",
              "      <td>0.6902054837</td>\n",
              "    </tr>\n",
              "    <tr>\n",
              "      <th>8211</th>\n",
              "      <td>USA</td>\n",
              "      <td>United States</td>\n",
              "      <td>2006</td>\n",
              "      <td>229600000.0</td>\n",
              "      <td>297827356</td>\n",
              "      <td>0.7709164231</td>\n",
              "    </tr>\n",
              "    <tr>\n",
              "      <th>8212</th>\n",
              "      <td>USA</td>\n",
              "      <td>United States</td>\n",
              "      <td>2007</td>\n",
              "      <td>249300000.0</td>\n",
              "      <td>300595175</td>\n",
              "      <td>0.8293546295</td>\n",
              "    </tr>\n",
              "    <tr>\n",
              "      <th>8213</th>\n",
              "      <td>USA</td>\n",
              "      <td>United States</td>\n",
              "      <td>2008</td>\n",
              "      <td>261300000.0</td>\n",
              "      <td>303374067</td>\n",
              "      <td>0.8613129085</td>\n",
              "    </tr>\n",
              "    <tr>\n",
              "      <th>8214</th>\n",
              "      <td>USA</td>\n",
              "      <td>United States</td>\n",
              "      <td>2009</td>\n",
              "      <td>274283000.0</td>\n",
              "      <td>306076362</td>\n",
              "      <td>0.8961260458</td>\n",
              "    </tr>\n",
              "    <tr>\n",
              "      <th>8215</th>\n",
              "      <td>USA</td>\n",
              "      <td>United States</td>\n",
              "      <td>2010</td>\n",
              "      <td>285118000.0</td>\n",
              "      <td>308641391</td>\n",
              "      <td>0.9237840689</td>\n",
              "    </tr>\n",
              "    <tr>\n",
              "      <th>8216</th>\n",
              "      <td>USA</td>\n",
              "      <td>United States</td>\n",
              "      <td>2011</td>\n",
              "      <td>297404000.0</td>\n",
              "      <td>311051373</td>\n",
              "      <td>0.9561250193</td>\n",
              "    </tr>\n",
              "    <tr>\n",
              "      <th>8217</th>\n",
              "      <td>USA</td>\n",
              "      <td>United States</td>\n",
              "      <td>2012</td>\n",
              "      <td>304838000.0</td>\n",
              "      <td>313335423</td>\n",
              "      <td>0.9728807458</td>\n",
              "    </tr>\n",
              "    <tr>\n",
              "      <th>8218</th>\n",
              "      <td>USA</td>\n",
              "      <td>United States</td>\n",
              "      <td>2013</td>\n",
              "      <td>310698000.0</td>\n",
              "      <td>315536676</td>\n",
              "      <td>0.9846652501</td>\n",
              "    </tr>\n",
              "    <tr>\n",
              "      <th>8219</th>\n",
              "      <td>USA</td>\n",
              "      <td>United States</td>\n",
              "      <td>2014</td>\n",
              "      <td>355500000.0</td>\n",
              "      <td>317718779</td>\n",
              "      <td>1.1189140318</td>\n",
              "    </tr>\n",
              "    <tr>\n",
              "      <th>8220</th>\n",
              "      <td>USA</td>\n",
              "      <td>United States</td>\n",
              "      <td>2015</td>\n",
              "      <td>382307000.0</td>\n",
              "      <td>319929162</td>\n",
              "      <td>1.1949739049</td>\n",
              "    </tr>\n",
              "    <tr>\n",
              "      <th>8221</th>\n",
              "      <td>USA</td>\n",
              "      <td>United States</td>\n",
              "      <td>2016</td>\n",
              "      <td>395881000.0</td>\n",
              "      <td>322179605</td>\n",
              "      <td>1.2287587229</td>\n",
              "    </tr>\n",
              "    <tr>\n",
              "      <th>8222</th>\n",
              "      <td>USA</td>\n",
              "      <td>United States</td>\n",
              "      <td>2017</td>\n",
              "      <td>395881000.0</td>\n",
              "      <td>324459463</td>\n",
              "      <td>1.2201246847</td>\n",
              "    </tr>\n",
              "  </tbody>\n",
              "</table>\n",
              "</div>"
            ],
            "text/plain": [
              "      geo        country  ...  population_total  cell_phones_per_person\n",
              "8180  USA  United States  ...         186808228            0.0000000000\n",
              "8181  USA  United States  ...         199815540            0.0000000000\n",
              "8182  USA  United States  ...         209588150            0.0000000000\n",
              "8183  USA  United States  ...         219205296            0.0000000000\n",
              "8184  USA  United States  ...         221239215            0.0000000000\n",
              "8185  USA  United States  ...         223324042            0.0000000000\n",
              "8186  USA  United States  ...         225449657            0.0000000000\n",
              "8187  USA  United States  ...         227599878            0.0000000000\n",
              "8188  USA  United States  ...         229763052            0.0000000000\n",
              "8189  USA  United States  ...         238573861            0.0003839482\n",
              "8190  USA  United States  ...         240824120            0.0014127032\n",
              "8191  USA  United States  ...         243098935            0.0028047223\n",
              "8192  USA  United States  ...         245402864            0.0050156505\n",
              "8193  USA  United States  ...         247739582            0.0083532917\n",
              "8194  USA  United States  ...         250113187            0.0140294242\n",
              "8195  USA  United States  ...         252529950            0.0209205086\n",
              "8196  USA  United States  ...         254974819            0.0296388013\n",
              "8197  USA  United States  ...         257454273            0.0428532526\n",
              "8198  USA  United States  ...         260020186            0.0615700698\n",
              "8199  USA  United States  ...         262741566            0.0918561207\n",
              "8200  USA  United States  ...         265658849            0.1271768704\n",
              "8201  USA  United States  ...         268803424            0.1638483296\n",
              "8202  USA  United States  ...         272136551            0.2032519807\n",
              "8203  USA  United States  ...         275542603            0.2511746650\n",
              "8204  USA  United States  ...         278862277            0.3085645141\n",
              "8205  USA  United States  ...         281982778            0.3882436785\n",
              "8206  USA  United States  ...         284852391            0.4511108352\n",
              "8207  USA  United States  ...         287506847            0.4932056453\n",
              "8208  USA  United States  ...         290027624            0.5538679309\n",
              "8209  USA  United States  ...         292539324            0.6317748926\n",
              "8210  USA  United States  ...         295129501            0.6902054837\n",
              "8211  USA  United States  ...         297827356            0.7709164231\n",
              "8212  USA  United States  ...         300595175            0.8293546295\n",
              "8213  USA  United States  ...         303374067            0.8613129085\n",
              "8214  USA  United States  ...         306076362            0.8961260458\n",
              "8215  USA  United States  ...         308641391            0.9237840689\n",
              "8216  USA  United States  ...         311051373            0.9561250193\n",
              "8217  USA  United States  ...         313335423            0.9728807458\n",
              "8218  USA  United States  ...         315536676            0.9846652501\n",
              "8219  USA  United States  ...         317718779            1.1189140318\n",
              "8220  USA  United States  ...         319929162            1.1949739049\n",
              "8221  USA  United States  ...         322179605            1.2287587229\n",
              "8222  USA  United States  ...         324459463            1.2201246847\n",
              "\n",
              "[43 rows x 6 columns]"
            ]
          },
          "metadata": {
            "tags": []
          },
          "execution_count": 21
        }
      ]
    },
    {
      "cell_type": "markdown",
      "metadata": {
        "id": "j2xDq7MAKRjg",
        "colab_type": "text"
      },
      "source": [
        "### Part 4 - Process data\n",
        "\n",
        "Use the describe function, to describe your dataframe's numeric columns, and then its non-numeric columns.\n",
        "\n",
        "(You'll see the time period ranges from 1960 to 2017, and there are 195 unique countries represented.)"
      ]
    },
    {
      "cell_type": "code",
      "metadata": {
        "id": "7uTdL8eFKWTz",
        "colab_type": "code",
        "outputId": "3ce070ec-7f36-4ae4-e629-dd7d75d4a01b",
        "colab": {
          "base_uri": "https://localhost:8080/",
          "height": 390
        }
      },
      "source": [
        "dPhone.describe(include = 'all')"
      ],
      "execution_count": 0,
      "outputs": [
        {
          "output_type": "execute_result",
          "data": {
            "text/html": [
              "<div>\n",
              "<style scoped>\n",
              "    .dataframe tbody tr th:only-of-type {\n",
              "        vertical-align: middle;\n",
              "    }\n",
              "\n",
              "    .dataframe tbody tr th {\n",
              "        vertical-align: top;\n",
              "    }\n",
              "\n",
              "    .dataframe thead th {\n",
              "        text-align: right;\n",
              "    }\n",
              "</style>\n",
              "<table border=\"1\" class=\"dataframe\">\n",
              "  <thead>\n",
              "    <tr style=\"text-align: right;\">\n",
              "      <th></th>\n",
              "      <th>geo</th>\n",
              "      <th>country</th>\n",
              "      <th>time</th>\n",
              "      <th>cell_phones_total</th>\n",
              "      <th>population_total</th>\n",
              "      <th>cell_phones_per_person</th>\n",
              "    </tr>\n",
              "  </thead>\n",
              "  <tbody>\n",
              "    <tr>\n",
              "      <th>count</th>\n",
              "      <td>8590</td>\n",
              "      <td>8590</td>\n",
              "      <td>8590.0000000000</td>\n",
              "      <td>8.5900000000e+03</td>\n",
              "      <td>8.5900000000e+03</td>\n",
              "      <td>8590.0000000000</td>\n",
              "    </tr>\n",
              "    <tr>\n",
              "      <th>unique</th>\n",
              "      <td>195</td>\n",
              "      <td>195</td>\n",
              "      <td>NaN</td>\n",
              "      <td>NaN</td>\n",
              "      <td>NaN</td>\n",
              "      <td>NaN</td>\n",
              "    </tr>\n",
              "    <tr>\n",
              "      <th>top</th>\n",
              "      <td>IDN</td>\n",
              "      <td>Guatemala</td>\n",
              "      <td>NaN</td>\n",
              "      <td>NaN</td>\n",
              "      <td>NaN</td>\n",
              "      <td>NaN</td>\n",
              "    </tr>\n",
              "    <tr>\n",
              "      <th>freq</th>\n",
              "      <td>46</td>\n",
              "      <td>46</td>\n",
              "      <td>NaN</td>\n",
              "      <td>NaN</td>\n",
              "      <td>NaN</td>\n",
              "      <td>NaN</td>\n",
              "    </tr>\n",
              "    <tr>\n",
              "      <th>mean</th>\n",
              "      <td>NaN</td>\n",
              "      <td>NaN</td>\n",
              "      <td>1994.1934807916</td>\n",
              "      <td>9.0049496429e+06</td>\n",
              "      <td>2.9838230582e+07</td>\n",
              "      <td>0.2796385558</td>\n",
              "    </tr>\n",
              "    <tr>\n",
              "      <th>std</th>\n",
              "      <td>NaN</td>\n",
              "      <td>NaN</td>\n",
              "      <td>14.2579746073</td>\n",
              "      <td>5.5734084872e+07</td>\n",
              "      <td>1.1612837747e+08</td>\n",
              "      <td>0.4542466562</td>\n",
              "    </tr>\n",
              "    <tr>\n",
              "      <th>min</th>\n",
              "      <td>NaN</td>\n",
              "      <td>NaN</td>\n",
              "      <td>1960.0000000000</td>\n",
              "      <td>0.0000000000e+00</td>\n",
              "      <td>4.4330000000e+03</td>\n",
              "      <td>0.0000000000</td>\n",
              "    </tr>\n",
              "    <tr>\n",
              "      <th>25%</th>\n",
              "      <td>NaN</td>\n",
              "      <td>NaN</td>\n",
              "      <td>1983.0000000000</td>\n",
              "      <td>0.0000000000e+00</td>\n",
              "      <td>1.4561480000e+06</td>\n",
              "      <td>0.0000000000</td>\n",
              "    </tr>\n",
              "    <tr>\n",
              "      <th>50%</th>\n",
              "      <td>NaN</td>\n",
              "      <td>NaN</td>\n",
              "      <td>1995.0000000000</td>\n",
              "      <td>6.2000000000e+03</td>\n",
              "      <td>5.7250625000e+06</td>\n",
              "      <td>0.0015636266</td>\n",
              "    </tr>\n",
              "    <tr>\n",
              "      <th>75%</th>\n",
              "      <td>NaN</td>\n",
              "      <td>NaN</td>\n",
              "      <td>2006.0000000000</td>\n",
              "      <td>1.6976520000e+06</td>\n",
              "      <td>1.8105812000e+07</td>\n",
              "      <td>0.4611491855</td>\n",
              "    </tr>\n",
              "    <tr>\n",
              "      <th>max</th>\n",
              "      <td>NaN</td>\n",
              "      <td>NaN</td>\n",
              "      <td>2017.0000000000</td>\n",
              "      <td>1.4740970000e+09</td>\n",
              "      <td>1.4095173970e+09</td>\n",
              "      <td>2.4902428185</td>\n",
              "    </tr>\n",
              "  </tbody>\n",
              "</table>\n",
              "</div>"
            ],
            "text/plain": [
              "         geo    country  ...  population_total  cell_phones_per_person\n",
              "count   8590       8590  ...  8.5900000000e+03         8590.0000000000\n",
              "unique   195        195  ...               NaN                     NaN\n",
              "top      IDN  Guatemala  ...               NaN                     NaN\n",
              "freq      46         46  ...               NaN                     NaN\n",
              "mean     NaN        NaN  ...  2.9838230582e+07            0.2796385558\n",
              "std      NaN        NaN  ...  1.1612837747e+08            0.4542466562\n",
              "min      NaN        NaN  ...  4.4330000000e+03            0.0000000000\n",
              "25%      NaN        NaN  ...  1.4561480000e+06            0.0000000000\n",
              "50%      NaN        NaN  ...  5.7250625000e+06            0.0015636266\n",
              "75%      NaN        NaN  ...  1.8105812000e+07            0.4611491855\n",
              "max      NaN        NaN  ...  1.4095173970e+09            2.4902428185\n",
              "\n",
              "[11 rows x 6 columns]"
            ]
          },
          "metadata": {
            "tags": []
          },
          "execution_count": 22
        }
      ]
    },
    {
      "cell_type": "markdown",
      "metadata": {
        "id": "KXEmo_HdKy_5",
        "colab_type": "text"
      },
      "source": [
        "In 2017, what were the top 5 countries with the most cell phones total?\n",
        "\n",
        "Your list of countries should have these totals:\n",
        "\n",
        "| country | cell phones total |\n",
        "|:-------:|:-----------------:|\n",
        "|    ?    |     1,474,097,000 |\n",
        "|    ?    |     1,168,902,277 |\n",
        "|    ?    |       458,923,202 |\n",
        "|    ?    |       395,881,000 |\n",
        "|    ?    |       236,488,548 |\n"
      ]
    },
    {
      "cell_type": "code",
      "metadata": {
        "id": "NbCVBsBIK06K",
        "colab_type": "code",
        "colab": {}
      },
      "source": [
        "myresults = dPhone.loc[dPhone['time'] == 2017]"
      ],
      "execution_count": 0,
      "outputs": []
    },
    {
      "cell_type": "code",
      "metadata": {
        "id": "vLPRhLhDLTdx",
        "colab_type": "code",
        "outputId": "06dadd07-3781-4709-8feb-00f77f077568",
        "colab": {
          "base_uri": "https://localhost:8080/",
          "height": 204
        }
      },
      "source": [
        "myresults = myresults.sort_values(by=['cell_phones_total'], ascending=False)\n",
        "myresults.head()"
      ],
      "execution_count": 0,
      "outputs": [
        {
          "output_type": "execute_result",
          "data": {
            "text/html": [
              "<div>\n",
              "<style scoped>\n",
              "    .dataframe tbody tr th:only-of-type {\n",
              "        vertical-align: middle;\n",
              "    }\n",
              "\n",
              "    .dataframe tbody tr th {\n",
              "        vertical-align: top;\n",
              "    }\n",
              "\n",
              "    .dataframe thead th {\n",
              "        text-align: right;\n",
              "    }\n",
              "</style>\n",
              "<table border=\"1\" class=\"dataframe\">\n",
              "  <thead>\n",
              "    <tr style=\"text-align: right;\">\n",
              "      <th></th>\n",
              "      <th>geo</th>\n",
              "      <th>country</th>\n",
              "      <th>time</th>\n",
              "      <th>cell_phones_total</th>\n",
              "      <th>population_total</th>\n",
              "      <th>cell_phones_per_person</th>\n",
              "    </tr>\n",
              "  </thead>\n",
              "  <tbody>\n",
              "    <tr>\n",
              "      <th>1643</th>\n",
              "      <td>CHN</td>\n",
              "      <td>China</td>\n",
              "      <td>2017</td>\n",
              "      <td>1474097000.0</td>\n",
              "      <td>1409517397</td>\n",
              "      <td>1.0458168187</td>\n",
              "    </tr>\n",
              "    <tr>\n",
              "      <th>3516</th>\n",
              "      <td>IND</td>\n",
              "      <td>India</td>\n",
              "      <td>2017</td>\n",
              "      <td>1168902277.0</td>\n",
              "      <td>1339180127</td>\n",
              "      <td>0.8728491810</td>\n",
              "    </tr>\n",
              "    <tr>\n",
              "      <th>3562</th>\n",
              "      <td>IDN</td>\n",
              "      <td>Indonesia</td>\n",
              "      <td>2017</td>\n",
              "      <td>458923202.0</td>\n",
              "      <td>263991379</td>\n",
              "      <td>1.7384022302</td>\n",
              "    </tr>\n",
              "    <tr>\n",
              "      <th>8222</th>\n",
              "      <td>USA</td>\n",
              "      <td>United States</td>\n",
              "      <td>2017</td>\n",
              "      <td>395881000.0</td>\n",
              "      <td>324459463</td>\n",
              "      <td>1.2201246847</td>\n",
              "    </tr>\n",
              "    <tr>\n",
              "      <th>1094</th>\n",
              "      <td>BRA</td>\n",
              "      <td>Brazil</td>\n",
              "      <td>2017</td>\n",
              "      <td>236488548.0</td>\n",
              "      <td>209288278</td>\n",
              "      <td>1.1299655684</td>\n",
              "    </tr>\n",
              "  </tbody>\n",
              "</table>\n",
              "</div>"
            ],
            "text/plain": [
              "      geo        country  ...  population_total  cell_phones_per_person\n",
              "1643  CHN          China  ...        1409517397            1.0458168187\n",
              "3516  IND          India  ...        1339180127            0.8728491810\n",
              "3562  IDN      Indonesia  ...         263991379            1.7384022302\n",
              "8222  USA  United States  ...         324459463            1.2201246847\n",
              "1094  BRA         Brazil  ...         209288278            1.1299655684\n",
              "\n",
              "[5 rows x 6 columns]"
            ]
          },
          "metadata": {
            "tags": []
          },
          "execution_count": 24
        }
      ]
    },
    {
      "cell_type": "markdown",
      "metadata": {
        "id": "RcBnaSW_LYSk",
        "colab_type": "text"
      },
      "source": [
        "## Data Storytelling\n",
        "\n",
        "In this part of the sprint challenge you'll work with a dataset from **FiveThirtyEight's article, [Every Guest Jon Stewart Ever Had On ‘The Daily Show’](https://fivethirtyeight.com/features/every-guest-jon-stewart-ever-had-on-the-daily-show/)**!"
      ]
    },
    {
      "cell_type": "markdown",
      "metadata": {
        "id": "t0vUeBgBLcby",
        "colab_type": "text"
      },
      "source": [
        "### Part 0 — Run this starter code\n",
        "\n",
        "You don't need to add or change anything here. Just run this cell and it loads the data for you, into a dataframe named `df`.\n",
        "\n",
        "(You can explore the data if you want, but it's not required to pass the Sprint Challenge.)"
      ]
    },
    {
      "cell_type": "code",
      "metadata": {
        "id": "pc7YmWvlLas5",
        "colab_type": "code",
        "colab": {}
      },
      "source": [
        "%matplotlib inline\n",
        "import matplotlib.pyplot as plt\n",
        "import numpy as np\n",
        "import pandas as pd\n",
        "import seaborn as sns\n",
        "\n",
        "url = 'https://raw.githubusercontent.com/fivethirtyeight/data/master/daily-show-guests/daily_show_guests.csv'\n",
        "df = pd.read_csv(url).rename(columns={'YEAR': 'Year', 'Raw_Guest_List': 'Guest'})\n",
        "\n",
        "def get_occupation(group):\n",
        "    if group in ['Acting', 'Comedy', 'Musician']:\n",
        "        return 'Acting, Comedy & Music'\n",
        "    elif group in ['Media', 'media']:\n",
        "        return 'Media'\n",
        "    elif group in ['Government', 'Politician', 'Political Aide']:\n",
        "        return 'Government and Politics'\n",
        "    else:\n",
        "        return 'Other'\n",
        "      \n",
        "df['Occupation'] = df['Group'].apply(get_occupation)"
      ],
      "execution_count": 0,
      "outputs": []
    },
    {
      "cell_type": "code",
      "metadata": {
        "id": "B9R-hztOOR5Q",
        "colab_type": "code",
        "outputId": "009cd98a-c9b5-4702-8ec5-4efbe50ed747",
        "colab": {
          "base_uri": "https://localhost:8080/",
          "height": 204
        }
      },
      "source": [
        "df.head()"
      ],
      "execution_count": 0,
      "outputs": [
        {
          "output_type": "execute_result",
          "data": {
            "text/html": [
              "<div>\n",
              "<style scoped>\n",
              "    .dataframe tbody tr th:only-of-type {\n",
              "        vertical-align: middle;\n",
              "    }\n",
              "\n",
              "    .dataframe tbody tr th {\n",
              "        vertical-align: top;\n",
              "    }\n",
              "\n",
              "    .dataframe thead th {\n",
              "        text-align: right;\n",
              "    }\n",
              "</style>\n",
              "<table border=\"1\" class=\"dataframe\">\n",
              "  <thead>\n",
              "    <tr style=\"text-align: right;\">\n",
              "      <th></th>\n",
              "      <th>Year</th>\n",
              "      <th>GoogleKnowlege_Occupation</th>\n",
              "      <th>Show</th>\n",
              "      <th>Group</th>\n",
              "      <th>Guest</th>\n",
              "      <th>Occupation</th>\n",
              "    </tr>\n",
              "  </thead>\n",
              "  <tbody>\n",
              "    <tr>\n",
              "      <th>0</th>\n",
              "      <td>1999</td>\n",
              "      <td>actor</td>\n",
              "      <td>1/11/99</td>\n",
              "      <td>Acting</td>\n",
              "      <td>Michael J. Fox</td>\n",
              "      <td>Acting, Comedy &amp; Music</td>\n",
              "    </tr>\n",
              "    <tr>\n",
              "      <th>1</th>\n",
              "      <td>1999</td>\n",
              "      <td>Comedian</td>\n",
              "      <td>1/12/99</td>\n",
              "      <td>Comedy</td>\n",
              "      <td>Sandra Bernhard</td>\n",
              "      <td>Acting, Comedy &amp; Music</td>\n",
              "    </tr>\n",
              "    <tr>\n",
              "      <th>2</th>\n",
              "      <td>1999</td>\n",
              "      <td>television actress</td>\n",
              "      <td>1/13/99</td>\n",
              "      <td>Acting</td>\n",
              "      <td>Tracey Ullman</td>\n",
              "      <td>Acting, Comedy &amp; Music</td>\n",
              "    </tr>\n",
              "    <tr>\n",
              "      <th>3</th>\n",
              "      <td>1999</td>\n",
              "      <td>film actress</td>\n",
              "      <td>1/14/99</td>\n",
              "      <td>Acting</td>\n",
              "      <td>Gillian Anderson</td>\n",
              "      <td>Acting, Comedy &amp; Music</td>\n",
              "    </tr>\n",
              "    <tr>\n",
              "      <th>4</th>\n",
              "      <td>1999</td>\n",
              "      <td>actor</td>\n",
              "      <td>1/18/99</td>\n",
              "      <td>Acting</td>\n",
              "      <td>David Alan Grier</td>\n",
              "      <td>Acting, Comedy &amp; Music</td>\n",
              "    </tr>\n",
              "  </tbody>\n",
              "</table>\n",
              "</div>"
            ],
            "text/plain": [
              "   Year GoogleKnowlege_Occupation  ...             Guest              Occupation\n",
              "0  1999                     actor  ...    Michael J. Fox  Acting, Comedy & Music\n",
              "1  1999                  Comedian  ...   Sandra Bernhard  Acting, Comedy & Music\n",
              "2  1999        television actress  ...     Tracey Ullman  Acting, Comedy & Music\n",
              "3  1999              film actress  ...  Gillian Anderson  Acting, Comedy & Music\n",
              "4  1999                     actor  ...  David Alan Grier  Acting, Comedy & Music\n",
              "\n",
              "[5 rows x 6 columns]"
            ]
          },
          "metadata": {
            "tags": []
          },
          "execution_count": 26
        }
      ]
    },
    {
      "cell_type": "markdown",
      "metadata": {
        "id": "yisVUHiXLjv0",
        "colab_type": "text"
      },
      "source": [
        "### Part 1 — What's the breakdown of guests’ occupations per year?\n",
        "\n",
        "For example, in 1999, what percentage of guests were actors, comedians, or musicians? What percentage were in the media? What percentage were in politics? What percentage were from another occupation?\n",
        "\n",
        "Then, what about in 2000? In 2001? And so on, up through 2015.\n",
        "\n",
        "So, **for each year of _The Daily Show_, calculate the percentage of guests from each occupation:**\n",
        "- Acting, Comedy & Music\n",
        "- Government and Politics\n",
        "- Media\n",
        "- Other\n",
        "\n",
        "#### Hints:\n",
        "\n",
        "- You can make a crosstab. \n",
        "- You're going to want occupations as the column indexes and years as the row indexes\n",
        "- Use the `normalize` parameter to get percentages by year.\n",
        "\n",
        "You'll know you've calculated correctly when the percentage of \"Acting, Comedy & Music\" guests is 90.36% in 1999, and 45% in 2015."
      ]
    },
    {
      "cell_type": "code",
      "metadata": {
        "colab_type": "code",
        "id": "M2JKCKaQRCAU",
        "outputId": "98eed2dd-d164-4d14-9bef-9f41b5249d0b",
        "colab": {
          "base_uri": "https://localhost:8080/",
          "height": 607
        }
      },
      "source": [
        "guest_ocu = pd.crosstab(df['Year'], df['Occupation'], normalize='index')\n",
        "guest_ocu"
      ],
      "execution_count": 0,
      "outputs": [
        {
          "output_type": "execute_result",
          "data": {
            "text/html": [
              "<div>\n",
              "<style scoped>\n",
              "    .dataframe tbody tr th:only-of-type {\n",
              "        vertical-align: middle;\n",
              "    }\n",
              "\n",
              "    .dataframe tbody tr th {\n",
              "        vertical-align: top;\n",
              "    }\n",
              "\n",
              "    .dataframe thead th {\n",
              "        text-align: right;\n",
              "    }\n",
              "</style>\n",
              "<table border=\"1\" class=\"dataframe\">\n",
              "  <thead>\n",
              "    <tr style=\"text-align: right;\">\n",
              "      <th>Occupation</th>\n",
              "      <th>Acting, Comedy &amp; Music</th>\n",
              "      <th>Government and Politics</th>\n",
              "      <th>Media</th>\n",
              "      <th>Other</th>\n",
              "    </tr>\n",
              "    <tr>\n",
              "      <th>Year</th>\n",
              "      <th></th>\n",
              "      <th></th>\n",
              "      <th></th>\n",
              "      <th></th>\n",
              "    </tr>\n",
              "  </thead>\n",
              "  <tbody>\n",
              "    <tr>\n",
              "      <th>1999</th>\n",
              "      <td>0.9036144578</td>\n",
              "      <td>0.0120481928</td>\n",
              "      <td>0.0662650602</td>\n",
              "      <td>0.0180722892</td>\n",
              "    </tr>\n",
              "    <tr>\n",
              "      <th>2000</th>\n",
              "      <td>0.7396449704</td>\n",
              "      <td>0.0828402367</td>\n",
              "      <td>0.1242603550</td>\n",
              "      <td>0.0532544379</td>\n",
              "    </tr>\n",
              "    <tr>\n",
              "      <th>2001</th>\n",
              "      <td>0.7261146497</td>\n",
              "      <td>0.0382165605</td>\n",
              "      <td>0.1974522293</td>\n",
              "      <td>0.0382165605</td>\n",
              "    </tr>\n",
              "    <tr>\n",
              "      <th>2002</th>\n",
              "      <td>0.6226415094</td>\n",
              "      <td>0.0691823899</td>\n",
              "      <td>0.2641509434</td>\n",
              "      <td>0.0440251572</td>\n",
              "    </tr>\n",
              "    <tr>\n",
              "      <th>2003</th>\n",
              "      <td>0.5602409639</td>\n",
              "      <td>0.1024096386</td>\n",
              "      <td>0.2469879518</td>\n",
              "      <td>0.0903614458</td>\n",
              "    </tr>\n",
              "    <tr>\n",
              "      <th>2004</th>\n",
              "      <td>0.3841463415</td>\n",
              "      <td>0.2256097561</td>\n",
              "      <td>0.2743902439</td>\n",
              "      <td>0.1158536585</td>\n",
              "    </tr>\n",
              "    <tr>\n",
              "      <th>2005</th>\n",
              "      <td>0.3703703704</td>\n",
              "      <td>0.1604938272</td>\n",
              "      <td>0.3333333333</td>\n",
              "      <td>0.1358024691</td>\n",
              "    </tr>\n",
              "    <tr>\n",
              "      <th>2006</th>\n",
              "      <td>0.3602484472</td>\n",
              "      <td>0.1925465839</td>\n",
              "      <td>0.2919254658</td>\n",
              "      <td>0.1552795031</td>\n",
              "    </tr>\n",
              "    <tr>\n",
              "      <th>2007</th>\n",
              "      <td>0.2553191489</td>\n",
              "      <td>0.1702127660</td>\n",
              "      <td>0.3333333333</td>\n",
              "      <td>0.2411347518</td>\n",
              "    </tr>\n",
              "    <tr>\n",
              "      <th>2008</th>\n",
              "      <td>0.2073170732</td>\n",
              "      <td>0.2012195122</td>\n",
              "      <td>0.4695121951</td>\n",
              "      <td>0.1219512195</td>\n",
              "    </tr>\n",
              "    <tr>\n",
              "      <th>2009</th>\n",
              "      <td>0.2085889571</td>\n",
              "      <td>0.2085889571</td>\n",
              "      <td>0.3619631902</td>\n",
              "      <td>0.2208588957</td>\n",
              "    </tr>\n",
              "    <tr>\n",
              "      <th>2010</th>\n",
              "      <td>0.3515151515</td>\n",
              "      <td>0.1818181818</td>\n",
              "      <td>0.3030303030</td>\n",
              "      <td>0.1636363636</td>\n",
              "    </tr>\n",
              "    <tr>\n",
              "      <th>2011</th>\n",
              "      <td>0.3374233129</td>\n",
              "      <td>0.1656441718</td>\n",
              "      <td>0.3128834356</td>\n",
              "      <td>0.1840490798</td>\n",
              "    </tr>\n",
              "    <tr>\n",
              "      <th>2012</th>\n",
              "      <td>0.2682926829</td>\n",
              "      <td>0.2012195122</td>\n",
              "      <td>0.3170731707</td>\n",
              "      <td>0.2134146341</td>\n",
              "    </tr>\n",
              "    <tr>\n",
              "      <th>2013</th>\n",
              "      <td>0.4277108434</td>\n",
              "      <td>0.1265060241</td>\n",
              "      <td>0.3072289157</td>\n",
              "      <td>0.1385542169</td>\n",
              "    </tr>\n",
              "    <tr>\n",
              "      <th>2014</th>\n",
              "      <td>0.3926380368</td>\n",
              "      <td>0.1288343558</td>\n",
              "      <td>0.3251533742</td>\n",
              "      <td>0.1533742331</td>\n",
              "    </tr>\n",
              "    <tr>\n",
              "      <th>2015</th>\n",
              "      <td>0.4500000000</td>\n",
              "      <td>0.1700000000</td>\n",
              "      <td>0.2400000000</td>\n",
              "      <td>0.1400000000</td>\n",
              "    </tr>\n",
              "  </tbody>\n",
              "</table>\n",
              "</div>"
            ],
            "text/plain": [
              "Occupation  Acting, Comedy & Music  ...         Other\n",
              "Year                                ...              \n",
              "1999                  0.9036144578  ...  0.0180722892\n",
              "2000                  0.7396449704  ...  0.0532544379\n",
              "2001                  0.7261146497  ...  0.0382165605\n",
              "2002                  0.6226415094  ...  0.0440251572\n",
              "2003                  0.5602409639  ...  0.0903614458\n",
              "2004                  0.3841463415  ...  0.1158536585\n",
              "2005                  0.3703703704  ...  0.1358024691\n",
              "2006                  0.3602484472  ...  0.1552795031\n",
              "2007                  0.2553191489  ...  0.2411347518\n",
              "2008                  0.2073170732  ...  0.1219512195\n",
              "2009                  0.2085889571  ...  0.2208588957\n",
              "2010                  0.3515151515  ...  0.1636363636\n",
              "2011                  0.3374233129  ...  0.1840490798\n",
              "2012                  0.2682926829  ...  0.2134146341\n",
              "2013                  0.4277108434  ...  0.1385542169\n",
              "2014                  0.3926380368  ...  0.1533742331\n",
              "2015                  0.4500000000  ...  0.1400000000\n",
              "\n",
              "[17 rows x 4 columns]"
            ]
          },
          "metadata": {
            "tags": []
          },
          "execution_count": 27
        }
      ]
    },
    {
      "cell_type": "markdown",
      "metadata": {
        "id": "UthoeNABLwau",
        "colab_type": "text"
      },
      "source": [
        "### Part 2 — Recreate this explanatory visualization:\n",
        "\n"
      ]
    },
    {
      "cell_type": "markdown",
      "metadata": {
        "id": "WEHUhxlTL2w2",
        "colab_type": "text"
      },
      "source": [
        "**Hints:**\n",
        "- You can choose any Python visualization library you want. I've verified the plot can be reproduced with matplotlib, pandas plot, or seaborn. I assume other libraries like altair or plotly would work too.\n",
        "\n",
        "**Expectations:** Your plot should include:\n",
        "- 3 lines visualizing \"occupation of guests, by year.\" The shapes of the lines should look roughly identical to 538's example. Each line should be a different color. (But you don't need to use the _same_ colors as 538.)\n",
        "- Legend **or** labels for the lines. (But **you don't need each label positioned next to its line or colored like 538.**)\n",
        "- Title in the upper left: _\"Who Got To Be On 'The Daily Show'?\"_ with more visual emphasis than the subtitle. (Bolder and/or larger font.)\n",
        "- Subtitle underneath the title: _\"Occupation of guests, by year\"_"
      ]
    },
    {
      "cell_type": "code",
      "metadata": {
        "id": "oy9dt9l6Lz18",
        "colab_type": "code",
        "outputId": "608b6bf3-1cf9-4b70-eb54-03bd8fd29564",
        "colab": {
          "base_uri": "https://localhost:8080/",
          "height": 406
        }
      },
      "source": [
        "from IPython.display import display, Image\n",
        "png = 'https://fivethirtyeight.com/wp-content/uploads/2015/08/hickey-datalab-dailyshow.png'\n",
        "example = Image(png, width=500)\n",
        "display(example)"
      ],
      "execution_count": 0,
      "outputs": [
        {
          "output_type": "display_data",
          "data": {
            "image/png": "[encoded data removed]",
            "text/plain": [
              "<IPython.core.display.Image object>"
            ]
          },
          "metadata": {
            "tags": [],
            "image/png": {
              "width": 500
            }
          }
        }
      ]
    },
    {
      "cell_type": "code",
      "metadata": {
        "id": "J-T3IU__L0ih",
        "colab_type": "code",
        "outputId": "bf1c9bab-9f3b-40a2-82f5-89849a44b3f5",
        "colab": {
          "base_uri": "https://localhost:8080/",
          "height": 231
        }
      },
      "source": [
        "plt.style.use('bmh')\n",
        "\n",
        "fig = plt.figure(figsize=(9, 6));\n",
        "ax1 = fig.add_axes([.6,.6,.8,.8])\n",
        "ax2 = fig.add_axes([.8,.8,.8,.8])\n",
        "ax3 = fig.add_axes([.8,.8,.8,.8])\n",
        "\n",
        "plt.title(\"Who Got To Be On 'The Daily Show'?\", x=.350, y=.92,fontname=\"Times New Roman\",fontweight=\"bold\", fontsize=15.5)\n",
        "plt.suptitle(\"Occupation of guests, by year\", x=.995, y=1.54,fontname=\"Times New Roman\", fontsize=13.5)\n",
        "\n",
        "ax1.plot(guest_ocu['Acting, Comedy & Music'], '#008FD5', linewidth=3)\n",
        "ax2.plot(guest_ocu['Government and Politics'], '#FF2700', linewidth=3)\n",
        "ax3.plot(guest_ocu['Media'], '#810F7C', linewidth=3)\n",
        "\n",
        "ax1.legend(['Acting, Comedy & Music', 'Government and Politics', 'Media'])\n",
        "\n",
        "plt.xlim(1999, 2015)\n",
        "plt.ylim(0, 1.)\n"
      ],
      "execution_count": 1,
      "outputs": [
        {
          "output_type": "error",
          "ename": "NameError",
          "evalue": "ignored",
          "traceback": [
            "\u001b[0;31m---------------------------------------------------------------------------\u001b[0m",
            "\u001b[0;31mNameError\u001b[0m                                 Traceback (most recent call last)",
            "\u001b[0;32m<ipython-input-1-b747dee97e85>\u001b[0m in \u001b[0;36m<module>\u001b[0;34m()\u001b[0m\n\u001b[0;32m----> 1\u001b[0;31m \u001b[0mplt\u001b[0m\u001b[0;34m.\u001b[0m\u001b[0mstyle\u001b[0m\u001b[0;34m.\u001b[0m\u001b[0muse\u001b[0m\u001b[0;34m(\u001b[0m\u001b[0;34m'bmh'\u001b[0m\u001b[0;34m)\u001b[0m\u001b[0;34m\u001b[0m\u001b[0;34m\u001b[0m\u001b[0m\n\u001b[0m\u001b[1;32m      2\u001b[0m \u001b[0;34m\u001b[0m\u001b[0m\n\u001b[1;32m      3\u001b[0m \u001b[0mfig\u001b[0m \u001b[0;34m=\u001b[0m \u001b[0mplt\u001b[0m\u001b[0;34m.\u001b[0m\u001b[0mfigure\u001b[0m\u001b[0;34m(\u001b[0m\u001b[0mfigsize\u001b[0m\u001b[0;34m=\u001b[0m\u001b[0;34m(\u001b[0m\u001b[0;36m9\u001b[0m\u001b[0;34m,\u001b[0m \u001b[0;36m6\u001b[0m\u001b[0;34m)\u001b[0m\u001b[0;34m)\u001b[0m\u001b[0;34m;\u001b[0m\u001b[0;34m\u001b[0m\u001b[0;34m\u001b[0m\u001b[0m\n\u001b[1;32m      4\u001b[0m \u001b[0max1\u001b[0m \u001b[0;34m=\u001b[0m \u001b[0mfig\u001b[0m\u001b[0;34m.\u001b[0m\u001b[0madd_axes\u001b[0m\u001b[0;34m(\u001b[0m\u001b[0;34m[\u001b[0m\u001b[0;36m.6\u001b[0m\u001b[0;34m,\u001b[0m\u001b[0;36m.6\u001b[0m\u001b[0;34m,\u001b[0m\u001b[0;36m.8\u001b[0m\u001b[0;34m,\u001b[0m\u001b[0;36m.8\u001b[0m\u001b[0;34m]\u001b[0m\u001b[0;34m)\u001b[0m\u001b[0;34m\u001b[0m\u001b[0;34m\u001b[0m\u001b[0m\n\u001b[1;32m      5\u001b[0m \u001b[0max2\u001b[0m \u001b[0;34m=\u001b[0m \u001b[0mfig\u001b[0m\u001b[0;34m.\u001b[0m\u001b[0madd_axes\u001b[0m\u001b[0;34m(\u001b[0m\u001b[0;34m[\u001b[0m\u001b[0;36m.8\u001b[0m\u001b[0;34m,\u001b[0m\u001b[0;36m.8\u001b[0m\u001b[0;34m,\u001b[0m\u001b[0;36m.8\u001b[0m\u001b[0;34m,\u001b[0m\u001b[0;36m.8\u001b[0m\u001b[0;34m]\u001b[0m\u001b[0;34m)\u001b[0m\u001b[0;34m\u001b[0m\u001b[0;34m\u001b[0m\u001b[0m\n",
            "\u001b[0;31mNameError\u001b[0m: name 'plt' is not defined"
          ]
        }
      ]
    },
    {
      "cell_type": "markdown",
      "metadata": {
        "id": "svbK28PWNCic",
        "colab_type": "text"
      },
      "source": [
        "## How to get a 3 on this Sprint Challenge:\n",
        "\n",
        "Once you have completed the above making a solid attempt at each section, if you still have time remaining, you can go back and do any of the following to get a score of 3 on the above sections. Remember that everything in this section is **optional** and that we will average your scores between the different sections, so get the easy points first!\n",
        "\n",
        "Complete any of the following **within** their corresponding sections in the Sprint Challenge (go back up and add these thigns):\n",
        "\n",
        "### Data Wrangling Section 1\n",
        "\n",
        "Filter the `cell_phones` dataframe to only include information about the USA and China and then remake the scatterplot. \n",
        "\n",
        "### Data Wrangling Section 2\n",
        "\n",
        "Explain why we are using an \"inner\" join when we merge these dataframes.\n",
        "**So we only use the matching values and it doesn't throw unneed null values, imo it's the easiest predict results**\n",
        "\n",
        "### Data Wrangling Section 3\n",
        "\n",
        "Modify the geo column to make the geo codes uppercase instead of lowercase.\n",
        "\n",
        "### Data Wrangling Section 4\n",
        "\n",
        "2017 was the first year that China had more cell phones than people.\n",
        "\n",
        "What was the first year that the USA had more cell phones than people?\n",
        "**2014**\n",
        "\n",
        "### Data Storytelling \n",
        "\n",
        "Keep on working on your graph to make it look particularly like the 538 graph by manipulating the graph's background color, the line colors, the x and y axis tick marks/labels, and adding a subtitle. \n",
        "\n",
        "If you have already completed everything else, take this as far as you can within the time limit.\n"
      ]
    },
    {
      "cell_type": "code",
      "metadata": {
        "id": "yrMJvHMGehx8",
        "colab_type": "code",
        "colab": {}
      },
      "source": [
        ""
      ],
      "execution_count": 0,
      "outputs": []
    }
  ]
}