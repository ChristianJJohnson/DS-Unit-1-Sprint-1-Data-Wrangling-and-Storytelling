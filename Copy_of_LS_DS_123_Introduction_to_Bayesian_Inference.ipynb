{
  "nbformat": 4,
  "nbformat_minor": 0,
  "metadata": {
    "colab": {
      "name": "Copy of LS_DS_123_Introduction_to_Bayesian_Inference.ipynb",
      "provenance": [],
      "include_colab_link": true
    },
    "kernelspec": {
      "display_name": "Python 3",
      "language": "python",
      "name": "python3"
    },
    "language_info": {
      "codemirror_mode": {
        "name": "ipython",
        "version": 3
      },
      "file_extension": ".py",
      "mimetype": "text/x-python",
      "name": "python",
      "nbconvert_exporter": "python",
      "pygments_lexer": "ipython3",
      "version": "3.7.3"
    }
  },
  "cells": [
    {
      "cell_type": "markdown",
      "metadata": {
        "id": "view-in-github",
        "colab_type": "text"
      },
      "source": [
        "<a href=\"https://colab.research.google.com/github/ChristianJJohnson/DS-Unit-1-Sprint-1-Data-Wrangling-and-Storytelling/blob/master/Copy_of_LS_DS_123_Introduction_to_Bayesian_Inference.ipynb\" target=\"_parent\"><img src=\"https://colab.research.google.com/assets/colab-badge.svg\" alt=\"Open In Colab\"/></a>"
      ]
    },
    {
      "cell_type": "markdown",
      "metadata": {
        "colab_type": "text",
        "id": "H7OLbevlbd_Z"
      },
      "source": [
        "# Lambda School Data Science Module 123\n",
        "\n",
        "## Introduction to Bayesian Inference\n",
        "[XKCD 1132](https://www.xkcd.com/1132/)"
      ]
    },
    {
      "cell_type": "markdown",
      "metadata": {
        "id": "ZY8v2ub52S2R",
        "colab_type": "text"
      },
      "source": [
        "<div>\n",
        "<img src=\"https://imgs.xkcd.com/comics/frequentists_vs_bayesians.png\" width=\"300\"/>\n",
        "</div>"
      ]
    },
    {
      "cell_type": "markdown",
      "metadata": {
        "id": "qzEq_-sj2S2S",
        "colab_type": "text"
      },
      "source": [
        "#### Bayes vs. Frequentist inference\n",
        "\n",
        "| Bayes | Frequentist |\n",
        "|:---|:---|\n",
        "|uses probabilities for both hypotheses and data|never uses or gives the probability of a hypothesis (no prior or posterior).|\n",
        "|depends on the prior and likelihood of observed data.|depends on the likelihood P(D | H)) for both observed and unobserved data.|\n",
        "|requires one to know or construct a ‘subjective prior’.|does not require a prior.|\n",
        "|dominated statistical practice before the 20th century.|dominated statistical practice during the 20th century.|\n",
        "\n",
        "https://ocw.mit.edu/courses/mathematics/18-05-introduction-to-probability-and-statistics-spring-2014/readings/MIT18_05S14_Reading20.pdf"
      ]
    },
    {
      "cell_type": "markdown",
      "metadata": {
        "id": "aNF-3fiT2S2U",
        "colab_type": "text"
      },
      "source": [
        "## Cookie Challenge\n",
        "https://www.greenteapress.com/thinkbayes/thinkbayes.pdf#page20"
      ]
    },
    {
      "cell_type": "markdown",
      "metadata": {
        "id": "Un4gNdl92S2V",
        "colab_type": "text"
      },
      "source": [
        "<div>\n",
        "<img src=\"https://food.fnr.sndimg.com/content/dam/images/food/fullset/2009/6/12/2/PASP09_303502_s4x3.jpg.rend.hgtvcom.826.620.suffix/1371589411856.jpeg\" width=\"300\"/>\n",
        "</div>"
      ]
    },
    {
      "cell_type": "markdown",
      "metadata": {
        "id": "skpE4fNZ2S2W",
        "colab_type": "text"
      },
      "source": [
        "Suppose there are two bowls of cookies.  \n",
        "* Bowl 1 contains 30 vanilla cookies and 10 chocolate cookies.  \n",
        "* Bowl 2 contains 20 vanilla cookies and 20 chocolate cookies.  \n",
        "\n",
        "What is the probability of randomly drawing a chocolate cookie?"
      ]
    },
    {
      "cell_type": "code",
      "metadata": {
        "id": "52aiMuSx2S2Z",
        "colab_type": "code",
        "colab": {}
      },
      "source": [
        " # Independent probability = independent of any other given probability\n",
        "\n",
        "# total number of vanilla cookies\n",
        "vanilla = 30 + 20\n",
        "# total number of chocolate cookies\n",
        "chocolate = 10 + 20\n",
        "# Cookies total\n",
        "cookies = vanilla + chocolate\n",
        "# Independent probability of chocolate cookies\n",
        "P_C = chocolate / cookies"
      ],
      "execution_count": 0,
      "outputs": []
    },
    {
      "cell_type": "markdown",
      "metadata": {
        "id": "5MT9ja4g2S2d",
        "colab_type": "text"
      },
      "source": [
        "Given that I pick from bowl 1, what is the probability of randomly drawing chocolate cookie?  \n",
        "`P(C|B1)`\n",
        "<br>\n",
        "English: (P)probability of (C)chocolate cookie (|) given (B1) bowl 1"
      ]
    },
    {
      "cell_type": "code",
      "metadata": {
        "id": "KHK1y7GD2S2e",
        "colab_type": "code",
        "outputId": "cb1380c0-dbd1-4f1b-b019-dcf883ce0fda",
        "colab": {
          "base_uri": "https://localhost:8080/",
          "height": 34
        }
      },
      "source": [
        "# conditional probability\n",
        "P_B1 = 1\n",
        "P_CB1 = 10 / 40\n",
        "print(P_CB1)"
      ],
      "execution_count": 2,
      "outputs": [
        {
          "output_type": "stream",
          "text": [
            "0.25\n"
          ],
          "name": "stdout"
        }
      ]
    },
    {
      "cell_type": "markdown",
      "metadata": {
        "id": "Md6gWADq2S2h",
        "colab_type": "text"
      },
      "source": [
        "Now suppose you choose one of the bowls at random and, without looking, select a cookie at random. The cookie is chocolate. What is the probability that it came from Bowl 1?  \n",
        "`P(B1|C)`\n",
        "<br>\n",
        "Engilish (P) Probablity of (B!)Bowl 1 (|) given chocolate cookie"
      ]
    },
    {
      "cell_type": "code",
      "metadata": {
        "id": "aJwZTr6r2S2h",
        "colab_type": "code",
        "outputId": "7561dc5d-5ffc-4d68-ab00-e70b5f8093aa",
        "colab": {
          "base_uri": "https://localhost:8080/",
          "height": 34
        }
      },
      "source": [
        "# conditional probability\n",
        "P_B1 = .5 # Indep prob of choosing bowl 1\n",
        "P_CB1 = .25\n",
        "P_C = 30/80\n",
        "P_B1C = (P_B1 * P_CB1) / P_C\n",
        "print(round(P_B1C, 3))"
      ],
      "execution_count": 3,
      "outputs": [
        {
          "output_type": "stream",
          "text": [
            "0.333\n"
          ],
          "name": "stdout"
        }
      ]
    },
    {
      "cell_type": "markdown",
      "metadata": {
        "id": "a5F9tIsrO1DR",
        "colab_type": "text"
      },
      "source": [
        "$$Prob(Bowl 1|Chocolate) = \\frac{Bowl1*ChocolateNBowl1}{TotalChocolate}$$"
      ]
    },
    {
      "cell_type": "markdown",
      "metadata": {
        "id": "GIA40lKt2S2j",
        "colab_type": "text"
      },
      "source": [
        "<h3><strong> Bayes Theorem </strong></h3>\n",
        "<p><strong>Bayes Theorem</strong> - tells you about the probability of an event A occuring given that you have witnessed an event B.</p>\n",
        "\n",
        "$$posterior = \\frac{prior * conditional}{marginal}$$\n",
        "<br>\n",
        "$$ P(A|B)= \\frac{( P(A) * P(B|A) )}{( P(B))} $$\n",
        "\n",
        "<h5 align=\"center\">\n",
        "<strong>Where:</strong>\n",
        "<h5>\n",
        "<hr>\n",
        "<ul>\n",
        "<li><strong>A</strong> - Hypothesis</li>\n",
        "<li><strong>B</strong> - Observed Data</li>\n",
        "<li><strong>P(A|B) or Posterior probability</strong> - probability of event A occuring given that we have witnessed event B</li>\n",
        "<li><strong>P(A) or Prior probability</strong> - probability of event A occuring</li>\n",
        "<li><strong>P(B|A) or Conditional probability</strong> - probability of event B occuring given that we have witnessed event A</li>\n",
        "<li><strong>P(B) or Marginal probability</strong> - probability of event B occuring</li>\n",
        "</ul>\n",
        "\n",
        "<p>The probability of event A and B occuring is the probability that event A occurs and the probabilty of event B occuring given that we already know event A has occured. This is equal to the probability that event B occurs and the probability of event A occuring given that we already know B has occured.</p>"
      ]
    },
    {
      "cell_type": "markdown",
      "metadata": {
        "id": "uRtCQDmT2S2k",
        "colab_type": "text"
      },
      "source": [
        "## The Monty Hall Challenge\n",
        "https://math.ucsd.edu/~crypto/Monty/monty.html\n",
        "\n",
        "<div>\n",
        "<img src=\"http://www.sciencemadesimple.co.uk/files/2016/04/The-choices.png\" width=\"400\"/>\n",
        "</div>"
      ]
    },
    {
      "cell_type": "code",
      "metadata": {
        "id": "XTZRRgTB2S2l",
        "colab_type": "code",
        "colab": {
          "base_uri": "https://localhost:8080/",
          "height": 129
        },
        "outputId": "717ce499-8870-4554-bbf6-7801aa115489"
      },
      "source": [
        "# Let's recreate the game with code.\n",
        "def lets_make_a_deal():\n",
        "  from random import choice\n",
        "\n",
        "  print(\"Welcome to let's make a deal\")\n",
        "  def gameloop():\n",
        "    doors = ['A', 'B', 'C']\n",
        "    car = choice(doors)\n",
        "    userdoor = input('Choose a door and win the new car: ').upper()\n",
        "    zonks = []\n",
        "    showzonk = []\n",
        "    for door in doors:\n",
        "      if door != car:\n",
        "        zonks.append(door)\n",
        "    for zonk in zonks:\n",
        "      if zonk != car and zonk != userdoor:\n",
        "        showzonk.append(zonk)\n",
        "    if len(showzonk) > 1:\n",
        "      showzonk = choice(showzonk)\n",
        "    if door != 'A' or door != 'B' or door != 'C':\n",
        "      print(f\"I'd like to help you out by revealing a zonk [Opens door {showzonk}]\")\n",
        "      userswap = input(\"Will you [Swap] or [Keep] you door: \").upper()\n",
        "      if userswap == 'SWAP':\n",
        "        swapdoor = []\n",
        "        for door in doors:\n",
        "          if door != car and door != showzonk:\n",
        "            swapdoor.append(door)\n",
        "            userdoor = swapdoor[0]\n",
        "      else:\n",
        "        userdoor = userdoor\n",
        "      if userdoor == car:\n",
        "        print(f\"You chose door {userdoor}: Wow you won enjoy your sweet ride!\")\n",
        "      elif userdoor != car:\n",
        "        print(f\"You chose door {userdoor}: I may be an annoying talking animal but I'm now your annoying talking animal. Hey man enjoy your talking donkey.\")\n",
        "        print(f'The car was behind door {car}, so glad to get rid of that donkey.')\n",
        "    else:\n",
        "      print(\"I don't know what you mean...\")\n",
        "\n",
        "  gameloop()"
      ],
      "execution_count": 10,
      "outputs": [
        {
          "output_type": "error",
          "ename": "SyntaxError",
          "evalue": "ignored",
          "traceback": [
            "\u001b[0;36m  File \u001b[0;32m\"<ipython-input-10-c065fa0bb4f5>\"\u001b[0;36m, line \u001b[0;32m32\u001b[0m\n\u001b[0;31m    elif userdoor =! car:\u001b[0m\n\u001b[0m                  ^\u001b[0m\n\u001b[0;31mSyntaxError\u001b[0m\u001b[0;31m:\u001b[0m invalid syntax\n"
          ]
        }
      ]
    },
    {
      "cell_type": "code",
      "metadata": {
        "id": "w5zcXv4DxTdW",
        "colab_type": "code",
        "outputId": "ddf4e189-8aa6-4f0b-803a-4690d88f43c8",
        "colab": {
          "base_uri": "https://localhost:8080/",
          "height": 119
        }
      },
      "source": [
        "lets_make_a_deal()"
      ],
      "execution_count": 9,
      "outputs": [
        {
          "output_type": "stream",
          "text": [
            "Welcome to let's make a deal\n",
            "Choose a door and win the new car: A\n",
            "I'd like to help you out by revealing a zonk [Opens door B]\n",
            "Will you [Swap] or [Keep] you door: swap\n",
            "You chose door C: I may be an annoying talking animal but I'm now your annoying talking animal. Hey man enjoy your talking donkey.\n",
            "The car was behind door A, so glad to get rid of that donkey.\n"
          ],
          "name": "stdout"
        }
      ]
    },
    {
      "cell_type": "code",
      "metadata": {
        "id": "v0VK86T-2S2n",
        "colab_type": "code",
        "colab": {}
      },
      "source": [
        "# Choose a door (A, B, C,) and a choice (KEEP, SWITCH)\n"
      ],
      "execution_count": 0,
      "outputs": []
    },
    {
      "cell_type": "code",
      "metadata": {
        "id": "Rw16VzZc2S2q",
        "colab_type": "code",
        "colab": {}
      },
      "source": [
        "# Play the game 10,000 times. Which strategy is better? (Note: comment out the 'print'!)\n"
      ],
      "execution_count": 0,
      "outputs": []
    },
    {
      "cell_type": "markdown",
      "metadata": {
        "id": "sdk7UZR82S2r",
        "colab_type": "text"
      },
      "source": [
        "Suppose you pick door A. The host opens door B to reveal a goat. Should you switch to door C?  \n",
        "* prior probability  = 1/3\n",
        "* marginal probability  = 1/2  \n",
        "* conditional probability =          (1/2 * 1/3)       +           ( 0 * 1/3)       +           ( 1 * 1/3) = 1/2"
      ]
    },
    {
      "cell_type": "code",
      "metadata": {
        "id": "fhxN_x9q2S2v",
        "colab_type": "code",
        "colab": {}
      },
      "source": [
        "# define your prior, marginal, and conditional probabilities\n"
      ],
      "execution_count": 0,
      "outputs": []
    },
    {
      "cell_type": "code",
      "metadata": {
        "id": "xdOy15712S2z",
        "colab_type": "code",
        "colab": {}
      },
      "source": [
        "# P(car is A | choice is A) = (marginal * prior) / conditional\n"
      ],
      "execution_count": 0,
      "outputs": []
    },
    {
      "cell_type": "code",
      "metadata": {
        "id": "H9MFuJ5d2S23",
        "colab_type": "code",
        "colab": {}
      },
      "source": [
        "# P(car is C | choice is A) = 1-P(car is A | choice is A)\n"
      ],
      "execution_count": 0,
      "outputs": []
    },
    {
      "cell_type": "markdown",
      "metadata": {
        "id": "DojDOg7I2S28",
        "colab_type": "text"
      },
      "source": [
        "If we pick a door and then switch after seeing another door opens, the probability of selecting the right door increases from 1/3 to 2/3. It is, based on this information, always in our best interest to switch."
      ]
    },
    {
      "cell_type": "markdown",
      "metadata": {
        "colab_type": "text",
        "id": "3mz8p08BsN6p"
      },
      "source": [
        "## Bayes' Theorem and the Bayesian mindset"
      ]
    },
    {
      "cell_type": "markdown",
      "metadata": {
        "colab_type": "text",
        "id": "Fa-jzYp9i8La"
      },
      "source": [
        "### The Law of Total Probability\n",
        "\n",
        "\n",
        "By definition, the total probability of all outcomes (events) of some variable (event space) $A$ is 1. That is:\n",
        "\n",
        "$$P(A) = \\sum_n P(A_n) = 1$$\n",
        "\n",
        "The law of total probability takes this further, considering two variables ($A$ and $B$) and relating their marginal probabilities and their conditional probabilities. \n",
        "* marginal probabilities (their likelihoods considered independently, without reference to one another)\n",
        "* conditional probabilities (their likelihoods considered jointly)  \n",
        "A marginal probability is simply notated as e.g. $P(A)$, while a conditional probability is notated $P(A|B)$, which reads \"probability of $A$ *given* $B$\".\n",
        "\n",
        "The law of total probability states:\n",
        "\n",
        "$$P(A) = \\sum_n P(A | B_n) P(B_n)$$\n",
        "\n",
        "In words - the total probability of $A$ is equal to the sum of the conditional probability of $A$ on any given event $B_n$ times the probability of that event $B_n$, and summed over all possible events in $B$."
      ]
    },
    {
      "cell_type": "markdown",
      "metadata": {
        "colab_type": "text",
        "id": "GhycNr-Sbeie"
      },
      "source": [
        "\n",
        "\n",
        "\n",
        "\n",
        "### The Law of Conditional Probability\n",
        "\n",
        "What's the probability of something conditioned on something else? To determine this we have to go back to set theory and think about the intersection of sets:\n",
        "\n",
        "The formula for actual calculation:\n",
        "\n",
        "$$P(A|B) = \\frac{P(A \\cap B)}{P(B)}$$\n",
        "\n",
        "![Visualization of set intersection](https://upload.wikimedia.org/wikipedia/commons/9/99/Venn0001.svg)\n",
        "\n",
        "Think of the overall rectangle as the whole probability space, $A$ as the left circle, $B$ as the right circle, and their intersection as the red area. Try to visualize the ratio being described in the above formula, and how it is different from just the $P(A)$ (not conditioned on $B$).\n",
        "\n",
        "We can see how this relates back to the law of total probability - multiply both sides by $P(B)$ and you get $P(A|B)P(B) = P(A \\cap B)$ - replaced back into the law of total probability we get $P(A) = \\sum_n P(A \\cap B_n)$.\n",
        "\n",
        "This may not seem like an improvement at first, but try to relate it back to the above picture - if you think of sets as physical objects, we're saying that the total probability of $A$ given $B$ is all the little pieces of it intersected with $B$, added together. The conditional probability is then just that again, but divided by the probability of $B$ itself happening in the first place.\n"
      ]
    },
    {
      "cell_type": "markdown",
      "metadata": {
        "colab_type": "text",
        "id": "hi45SXVyi_Wt"
      },
      "source": [
        "### Bayes Theorem\n",
        "\n",
        "$$P(A|B) = \\frac{P(B|A)* P(A)}{P(B)}$$\n",
        "\n",
        "In words - the probability of $A$ conditioned on $B$ is the probability of $B$ conditioned on $A$, times the probability of $A$ and divided by the probability of $B$. \n",
        "\n",
        "\n",
        "### Using Bayes Theorem Iteratively (repeated testing)\n",
        "\n",
        "\n",
        "There are many ways to apply Bayes' theorem, such as drug tests. You may think that a drug test that is 100% accurate for true positives (detecting somebody who is a user) is pretty good, but what if it also has 1% false positive rate (indicating somebody is a user when they're not)? And furthermore, the rate of drug use in the population at large (and thus our prior belief) is 1/200.\n",
        "\n",
        "What is the likelihood somebody really is a user if they test positive? Some may guess it's 99% - the difference between the true positives and the false positives. But we have a prior belief of the background/true rate of drug use. Sounds like a job for Bayes' theorem!\n",
        "\n",
        "![Bayes Theorem Drug Test Example](https://wikimedia.org/api/rest_v1/media/math/render/svg/95c6524a3736c43e4bae139713f3df2392e6eda9)\n",
        "\n",
        "In other words, the likelihood that somebody is a user given they tested positive on a drug test is only 33.2% - probably much lower than you'd guess. This is why, in practice, it's important to use repeated testing to confirm. If we have the same individual who tested positive the first time take the drug test a second time then the posterior probability from our the first test becomes our new prior during the second application. What is the probability that a person is a drug user after two positive drug tests in a row?\n",
        "\n",
        "Bayes' theorem has been relevant in court cases where proper consideration of evidence was important. Whether it's a drug test, breathalyzer, pregnancy test, doctor's diagnosis, or neutrino detector, we have to take into account **both** the false positive rate and our prior probability in order to calculate the correct conditional probability."
      ]
    },
    {
      "cell_type": "markdown",
      "metadata": {
        "id": "rY3YgyFl2S3D",
        "colab_type": "text"
      },
      "source": [
        "* P(+|User) = 1 - True Positive Rate\n",
        "\n",
        "* P(User) = 1/200 Prior probability\n",
        "\n",
        "* P(+|Non-user) = False Positive rate\n",
        "\n",
        "You only need the above three numbers in order to calculate bayes rule  "
      ]
    },
    {
      "cell_type": "code",
      "metadata": {
        "id": "YQUFPlKw2S3F",
        "colab_type": "code",
        "colab": {}
      },
      "source": [
        "# prior belief\n",
        "# complement of the prior belief\n",
        "# true positive rate\n",
        "# false positive rate\n"
      ],
      "execution_count": 0,
      "outputs": []
    },
    {
      "cell_type": "code",
      "metadata": {
        "id": "pL-qGbTC2S3H",
        "colab_type": "code",
        "colab": {}
      },
      "source": [
        "# My first iteration of Bayes Rule (Bayes Theorem)\n"
      ],
      "execution_count": 0,
      "outputs": []
    },
    {
      "cell_type": "code",
      "metadata": {
        "id": "eKJk4bbq2S3J",
        "colab_type": "code",
        "colab": {}
      },
      "source": [
        "# We have the same person take the drug test again, and they test positive again\n",
        "# Now what is the likelihood that they are a drug user?\n",
        "# The posterior probability from the first test becomes our prior for the second iteration.\n",
        "\n"
      ],
      "execution_count": 0,
      "outputs": []
    },
    {
      "cell_type": "code",
      "metadata": {
        "id": "te53YLCq2S3N",
        "colab_type": "code",
        "colab": {}
      },
      "source": [
        "# calculate the complement of that prior via the law of total probability\n",
        "\n"
      ],
      "execution_count": 0,
      "outputs": []
    },
    {
      "cell_type": "code",
      "metadata": {
        "id": "ED11J7IK2S3Q",
        "colab_type": "code",
        "colab": {}
      },
      "source": [
        "# apply Bayes' theorem\n"
      ],
      "execution_count": 0,
      "outputs": []
    },
    {
      "cell_type": "code",
      "metadata": {
        "id": "iEBg-Edg2S3U",
        "colab_type": "code",
        "colab": {}
      },
      "source": [
        "# Now the third test\n"
      ],
      "execution_count": 0,
      "outputs": []
    },
    {
      "cell_type": "code",
      "metadata": {
        "id": "c4LmpfhG2S3X",
        "colab_type": "code",
        "colab": {}
      },
      "source": [
        "# Fourth test\n"
      ],
      "execution_count": 0,
      "outputs": []
    },
    {
      "cell_type": "code",
      "metadata": {
        "id": "ORevZ2lx2S3c",
        "colab_type": "code",
        "colab": {}
      },
      "source": [
        "# Turn all of that into a function\n"
      ],
      "execution_count": 0,
      "outputs": []
    },
    {
      "cell_type": "code",
      "metadata": {
        "id": "sHssaj1t2S3g",
        "colab_type": "code",
        "colab": {}
      },
      "source": [
        "# try it out\n"
      ],
      "execution_count": 0,
      "outputs": []
    },
    {
      "cell_type": "markdown",
      "metadata": {
        "colab_type": "text",
        "id": "htI3DGvDsRJF"
      },
      "source": [
        "## Calculating Bayesian Confidence"
      ]
    },
    {
      "cell_type": "code",
      "metadata": {
        "colab_type": "code",
        "id": "ke-5EqJI0Tsn",
        "colab": {
          "base_uri": "https://localhost:8080/",
          "height": 129
        },
        "outputId": "09413cf0-5413-433d-803e-2b185a80b786"
      },
      "source": [
        "https://docs.scipy.org/doc/scipy/reference/generated/scipy.stats.bayes_mvs.html  "
      ],
      "execution_count": 6,
      "outputs": [
        {
          "output_type": "error",
          "ename": "SyntaxError",
          "evalue": "ignored",
          "traceback": [
            "\u001b[0;36m  File \u001b[0;32m\"<ipython-input-6-13cf3f1572c7>\"\u001b[0;36m, line \u001b[0;32m1\u001b[0m\n\u001b[0;31m    https://docs.scipy.org/doc/scipy/reference/generated/scipy.stats.bayes_mvs.html\u001b[0m\n\u001b[0m           ^\u001b[0m\n\u001b[0;31mSyntaxError\u001b[0m\u001b[0;31m:\u001b[0m invalid syntax\n"
          ]
        }
      ]
    },
    {
      "cell_type": "markdown",
      "metadata": {
        "id": "PRTk0rwx2S3k",
        "colab_type": "text"
      },
      "source": [
        "#### Example 1. Using random number generator"
      ]
    },
    {
      "cell_type": "code",
      "metadata": {
        "id": "Jx4ackaY2S3k",
        "colab_type": "code",
        "colab": {}
      },
      "source": [
        "# import scipy and numpy\n",
        "\n",
        "# Set Random Seed for Reproducibility\n"
      ],
      "execution_count": 0,
      "outputs": []
    },
    {
      "cell_type": "code",
      "metadata": {
        "id": "wK219Pqr2S3m",
        "colab_type": "code",
        "colab": {}
      },
      "source": [
        "# FREQUENTIST APPROACH\n",
        "# calculate a 95% confidence interval on either side of this.\n"
      ],
      "execution_count": 0,
      "outputs": []
    },
    {
      "cell_type": "code",
      "metadata": {
        "id": "s10HwQd82S3n",
        "colab_type": "code",
        "colab": {}
      },
      "source": [
        "# BAYESIAN APPROACH\n"
      ],
      "execution_count": 0,
      "outputs": []
    },
    {
      "cell_type": "code",
      "metadata": {
        "id": "x1KdeBPD2S3p",
        "colab_type": "code",
        "colab": {}
      },
      "source": [
        "# plot on graph with kernel density estimate\n"
      ],
      "execution_count": 0,
      "outputs": []
    },
    {
      "cell_type": "markdown",
      "metadata": {
        "id": "eL_ucfJ62S3r",
        "colab_type": "text"
      },
      "source": [
        "#### Example 2. Using pandas dataframe"
      ]
    },
    {
      "cell_type": "code",
      "metadata": {
        "id": "bruCNazJ2S3r",
        "colab_type": "code",
        "colab": {}
      },
      "source": [
        "# read in the adult workforce dataset\n",
        "url='https://raw.githubusercontent.com/ryanleeallred/datasets/master/adult.csv'"
      ],
      "execution_count": 0,
      "outputs": []
    },
    {
      "cell_type": "code",
      "metadata": {
        "id": "kdS_iTiT2S3t",
        "colab_type": "code",
        "colab": {}
      },
      "source": [
        "# mean age\n"
      ],
      "execution_count": 0,
      "outputs": []
    },
    {
      "cell_type": "code",
      "metadata": {
        "id": "tieHLhCf2S30",
        "colab_type": "code",
        "colab": {}
      },
      "source": [
        "# FREQUENTIST APPROACH\n",
        "# calculate a 95% confidence interval on either side of this.\n"
      ],
      "execution_count": 0,
      "outputs": []
    },
    {
      "cell_type": "code",
      "metadata": {
        "id": "hEeepiYa2S32",
        "colab_type": "code",
        "colab": {}
      },
      "source": [
        "# BAYESIAN APPROACH\n"
      ],
      "execution_count": 0,
      "outputs": []
    },
    {
      "cell_type": "code",
      "metadata": {
        "id": "2ulA3m-z2S35",
        "colab_type": "code",
        "colab": {}
      },
      "source": [
        "# plot on graph with kernel density estimate\n"
      ],
      "execution_count": 0,
      "outputs": []
    },
    {
      "cell_type": "markdown",
      "metadata": {
        "id": "LFoSnQRO2S38",
        "colab_type": "text"
      },
      "source": [
        "## Pregnancy Test Example"
      ]
    },
    {
      "cell_type": "markdown",
      "metadata": {
        "id": "Z6wwHe_A2S39",
        "colab_type": "text"
      },
      "source": [
        "The **prior** is our belief in the model given no additional information. This model could be as simple as a statistic, such as the mean we're measuring, or a complex regression.  \n",
        "The **likelihood** is the probability of the data we observed occurring given the model.   \n",
        "The **marginal probability** of the data is the probability that our data are observed regardless of what model we choose or believe in. You divide the likelihood by this value to ensure that we are only talking about our model within the context of the data occurring. "
      ]
    },
    {
      "cell_type": "markdown",
      "metadata": {
        "id": "NS2z_e-92S39",
        "colab_type": "text"
      },
      "source": [
        "Imagine that we have a suspicion that someone is pregnant. We might use a pregnancy test to determine whether or not that's the case. Consider the following:\n",
        "\n",
        "1) Our hypothesis, $H$, is that this person is pregnant.   \n",
        "2) A positive result on the pregnancy test is denoted as $D$.   \n",
        "3) We'll consider some \"information\" about the world: $p(H) = 0.125$  \n",
        "**prior**: on average, 12.5 percent of women are pregnant (not accurate, but useful for our purposes here).  \n",
        "**marginal**: $p(D) = 0.14$ — Fourteen percent of people who take the pregnancy test come back with a positive result.  \n",
        "**likelihood**: $p(D|H) = 0.85$ — The likelihood states, \"How likely would we get data that look like this if our hypothesis was true?\" In other words, how accurate is our test?    \n",
        "**Estimate how likely it is that a woman who got a positive result is actually be pregnant using Bayes' theorem.**  \n",
        "We've got a decent chance of the results being accurate, but not 100 percent — that means that our posterior probability of somebody being pregnant, ($H=1$), given the data that we've seen (a positive result on the test) is 0.759 percent."
      ]
    },
    {
      "cell_type": "code",
      "metadata": {
        "id": "br1Li_xT2S3-",
        "colab_type": "code",
        "colab": {}
      },
      "source": [
        "# Define a function for bayes' theorem, assuming you know the conditional, prior, and marginal probabilities.\n"
      ],
      "execution_count": 0,
      "outputs": []
    },
    {
      "cell_type": "markdown",
      "metadata": {
        "colab_type": "text",
        "id": "uWgWjp3PQ3Sq"
      },
      "source": [
        "## Resources"
      ]
    },
    {
      "cell_type": "markdown",
      "metadata": {
        "colab_type": "text",
        "id": "QRgHqmYIQ9qn"
      },
      "source": [
        "- [Worked example of Bayes rule calculation](https://en.wikipedia.org/wiki/Bayes'_theorem#Examples) (helpful as it fully breaks out the denominator)\n",
        "- [Source code for mvsdist in scipy](https://github.com/scipy/scipy/blob/90534919e139d2a81c24bf08341734ff41a3db12/scipy/stats/morestats.py#L139)"
      ]
    }
  ]
}