{
  "nbformat": 4,
  "nbformat_minor": 0,
  "metadata": {
    "colab": {
      "name": "LS_DS_113_Join_and_Reshape_Data_Assignment.ipynb",
      "provenance": [],
      "collapsed_sections": []
    },
    "kernelspec": {
      "display_name": "Python 3",
      "language": "python",
      "name": "python3"
    }
  },
  "cells": [
    {
      "cell_type": "markdown",
      "metadata": {
        "colab_type": "text",
        "id": "pmU5YUal1eTZ"
      },
      "source": [
        "Lambda School Data Science\n",
        "\n",
        "*Unit 1, Sprint 1, Module 3*\n",
        "\n",
        "---\n",
        "\n",
        "# Join and Reshape datasets\n",
        "\n",
        "Objectives\n",
        "- concatenate data with pandas\n",
        "- merge data with pandas\n",
        "-  understand tidy data formatting\n",
        "-  melt and pivot data with pandas\n",
        "\n",
        "Links\n",
        "- [Pandas Cheat Sheet](https://github.com/pandas-dev/pandas/blob/master/doc/cheatsheet/Pandas_Cheat_Sheet.pdf)\n",
        "- [Tidy Data](https://en.wikipedia.org/wiki/Tidy_data)\n",
        "  - Combine Data Sets: Standard Joins\n",
        "  - Tidy Data\n",
        "  - Reshaping Data\n",
        "- Python Data Science Handbook\n",
        "  - [Chapter 3.6](https://jakevdp.github.io/PythonDataScienceHandbook/03.06-concat-and-append.html), Combining Datasets: Concat and Append\n",
        "  - [Chapter 3.7](https://jakevdp.github.io/PythonDataScienceHandbook/03.07-merge-and-join.html), Combining Datasets: Merge and Join\n",
        "  - [Chapter 3.8](https://jakevdp.github.io/PythonDataScienceHandbook/03.08-aggregation-and-grouping.html), Aggregation and Grouping\n",
        "  - [Chapter 3.9](https://jakevdp.github.io/PythonDataScienceHandbook/03.09-pivot-tables.html), Pivot Tables\n",
        "  \n",
        "Reference\n",
        "- Pandas Documentation: [Reshaping and Pivot Tables](https://pandas.pydata.org/pandas-docs/stable/reshaping.html)\n",
        "- Modern Pandas, Part 5: [Tidy Data](https://tomaugspurger.github.io/modern-5-tidy.html)"
      ]
    },
    {
      "cell_type": "code",
      "metadata": {
        "id": "5MsWLLW4Xg_i",
        "colab_type": "code",
        "outputId": "b9cc9129-89f7-4f19-de8b-27d3a741d051",
        "colab": {
          "base_uri": "https://localhost:8080/",
          "height": 211
        }
      },
      "source": [
        "!wget https://s3.amazonaws.com/instacart-datasets/instacart_online_grocery_shopping_2017_05_01.tar.gz"
      ],
      "execution_count": 3,
      "outputs": [
        {
          "output_type": "stream",
          "text": [
            "--2019-11-06 23:24:40--  https://s3.amazonaws.com/instacart-datasets/instacart_online_grocery_shopping_2017_05_01.tar.gz\n",
            "Resolving s3.amazonaws.com (s3.amazonaws.com)... 52.216.139.213\n",
            "Connecting to s3.amazonaws.com (s3.amazonaws.com)|52.216.139.213|:443... connected.\n",
            "HTTP request sent, awaiting response... 200 OK\n",
            "Length: 205548478 (196M) [application/x-gzip]\n",
            "Saving to: ‘instacart_online_grocery_shopping_2017_05_01.tar.gz’\n",
            "\n",
            "instacart_online_gr 100%[===================>] 196.03M  45.4MB/s    in 4.7s    \n",
            "\n",
            "2019-11-06 23:24:45 (41.7 MB/s) - ‘instacart_online_grocery_shopping_2017_05_01.tar.gz’ saved [205548478/205548478]\n",
            "\n"
          ],
          "name": "stdout"
        }
      ]
    },
    {
      "cell_type": "code",
      "metadata": {
        "id": "gfr4_Ya0XkLI",
        "colab_type": "code",
        "outputId": "8a4fc369-37c3-4223-be6f-b3ec86c6f730",
        "colab": {
          "base_uri": "https://localhost:8080/",
          "height": 246
        }
      },
      "source": [
        "!tar --gunzip --extract --verbose --file=instacart_online_grocery_shopping_2017_05_01.tar.gz"
      ],
      "execution_count": 4,
      "outputs": [
        {
          "output_type": "stream",
          "text": [
            "instacart_2017_05_01/\n",
            "instacart_2017_05_01/._aisles.csv\n",
            "instacart_2017_05_01/aisles.csv\n",
            "instacart_2017_05_01/._departments.csv\n",
            "instacart_2017_05_01/departments.csv\n",
            "instacart_2017_05_01/._order_products__prior.csv\n",
            "instacart_2017_05_01/order_products__prior.csv\n",
            "instacart_2017_05_01/._order_products__train.csv\n",
            "instacart_2017_05_01/order_products__train.csv\n",
            "instacart_2017_05_01/._orders.csv\n",
            "instacart_2017_05_01/orders.csv\n",
            "instacart_2017_05_01/._products.csv\n",
            "instacart_2017_05_01/products.csv\n"
          ],
          "name": "stdout"
        }
      ]
    },
    {
      "cell_type": "code",
      "metadata": {
        "id": "N4YyGPNdXrT0",
        "colab_type": "code",
        "outputId": "b40acdeb-46e4-46c6-bb9a-ac23713a602f",
        "colab": {
          "base_uri": "https://localhost:8080/",
          "height": 35
        }
      },
      "source": [
        "%cd instacart_2017_05_01"
      ],
      "execution_count": 5,
      "outputs": [
        {
          "output_type": "stream",
          "text": [
            "/content/instacart_2017_05_01\n"
          ],
          "name": "stdout"
        }
      ]
    },
    {
      "cell_type": "markdown",
      "metadata": {
        "colab_type": "text",
        "id": "kAMtvSQWPUcj"
      },
      "source": [
        "\n",
        "## Join Data Practice\n",
        "\n",
        "**These are the top 10 most frequently order products. How many time was each ordered?**\n",
        "\n",
        "1. Banana\n",
        "2. Bag of Organic Bananas\n",
        "3. Organic Strawberries\n",
        "4. Organic Baby Spinach \n",
        "5. Organic Hass Avocado\n",
        "6. Organic Avocado\n",
        "7. Large Lemon \n",
        "8. Strawberries\n",
        "9. Limes \n",
        "10. Organic Whole Milk"
      ]
    },
    {
      "cell_type": "code",
      "metadata": {
        "id": "b26wmLUiXtlM",
        "colab_type": "code",
        "outputId": "8e00fd2a-5e98-40ac-e707-3f3f94f6ab09",
        "colab": {
          "base_uri": "https://localhost:8080/",
          "height": 123
        }
      },
      "source": [
        "!ls -lh *.csv"
      ],
      "execution_count": 4,
      "outputs": [
        {
          "output_type": "stream",
          "text": [
            "-rw-r--r-- 1 502 staff 2.6K May  2  2017 aisles.csv\n",
            "-rw-r--r-- 1 502 staff  270 May  2  2017 departments.csv\n",
            "-rw-r--r-- 1 502 staff 551M May  2  2017 order_products__prior.csv\n",
            "-rw-r--r-- 1 502 staff  24M May  2  2017 order_products__train.csv\n",
            "-rw-r--r-- 1 502 staff 104M May  2  2017 orders.csv\n",
            "-rw-r--r-- 1 502 staff 2.1M May  2  2017 products.csv\n"
          ],
          "name": "stdout"
        }
      ]
    },
    {
      "cell_type": "code",
      "metadata": {
        "id": "XEB1lXT3LZxv",
        "colab_type": "code",
        "colab": {}
      },
      "source": [
        "# Import Everything\n",
        "import pandas as pd\n",
        "import numpy as np\n",
        "import matplotlib.pyplot as plt\n",
        "import seaborn as sns\n",
        "%matplotlib inline\n",
        "\n",
        "pd.options.display.max_rows=999\n",
        "pd.options.display.max_columns=100"
      ],
      "execution_count": 0,
      "outputs": []
    },
    {
      "cell_type": "code",
      "metadata": {
        "id": "vvE0EVHgXMFO",
        "colab_type": "code",
        "colab": {}
      },
      "source": [
        "# Keeping my notebook DRY\n",
        "def checkData(filename):\n",
        "  return pd.read_csv(f'{filename}.csv').sample(5)"
      ],
      "execution_count": 0,
      "outputs": []
    },
    {
      "cell_type": "code",
      "metadata": {
        "id": "727sYdQZMquh",
        "colab_type": "code",
        "colab": {
          "base_uri": "https://localhost:8080/",
          "height": 203
        },
        "outputId": "53af78cf-b1aa-4009-9d7e-376bc0b91bf2"
      },
      "source": [
        "checkData('aisles')"
      ],
      "execution_count": 9,
      "outputs": [
        {
          "output_type": "execute_result",
          "data": {
            "text/html": [
              "<div>\n",
              "<style scoped>\n",
              "    .dataframe tbody tr th:only-of-type {\n",
              "        vertical-align: middle;\n",
              "    }\n",
              "\n",
              "    .dataframe tbody tr th {\n",
              "        vertical-align: top;\n",
              "    }\n",
              "\n",
              "    .dataframe thead th {\n",
              "        text-align: right;\n",
              "    }\n",
              "</style>\n",
              "<table border=\"1\" class=\"dataframe\">\n",
              "  <thead>\n",
              "    <tr style=\"text-align: right;\">\n",
              "      <th></th>\n",
              "      <th>aisle_id</th>\n",
              "      <th>aisle</th>\n",
              "    </tr>\n",
              "  </thead>\n",
              "  <tbody>\n",
              "    <tr>\n",
              "      <th>64</th>\n",
              "      <td>65</td>\n",
              "      <td>protein meal replacements</td>\n",
              "    </tr>\n",
              "    <tr>\n",
              "      <th>124</th>\n",
              "      <td>125</td>\n",
              "      <td>trail mix snack mix</td>\n",
              "    </tr>\n",
              "    <tr>\n",
              "      <th>20</th>\n",
              "      <td>21</td>\n",
              "      <td>packaged cheese</td>\n",
              "    </tr>\n",
              "    <tr>\n",
              "      <th>84</th>\n",
              "      <td>85</td>\n",
              "      <td>food storage</td>\n",
              "    </tr>\n",
              "    <tr>\n",
              "      <th>88</th>\n",
              "      <td>89</td>\n",
              "      <td>salad dressing toppings</td>\n",
              "    </tr>\n",
              "  </tbody>\n",
              "</table>\n",
              "</div>"
            ],
            "text/plain": [
              "     aisle_id                      aisle\n",
              "64         65  protein meal replacements\n",
              "124       125        trail mix snack mix\n",
              "20         21            packaged cheese\n",
              "84         85               food storage\n",
              "88         89    salad dressing toppings"
            ]
          },
          "metadata": {
            "tags": []
          },
          "execution_count": 9
        }
      ]
    },
    {
      "cell_type": "code",
      "metadata": {
        "id": "f5dKexopMm9S",
        "colab_type": "code",
        "colab": {
          "base_uri": "https://localhost:8080/",
          "height": 203
        },
        "outputId": "8b28fef9-6bad-41ef-fa94-c9cebf7d8cb8"
      },
      "source": [
        "checkData('orders')"
      ],
      "execution_count": 15,
      "outputs": [
        {
          "output_type": "execute_result",
          "data": {
            "text/html": [
              "<div>\n",
              "<style scoped>\n",
              "    .dataframe tbody tr th:only-of-type {\n",
              "        vertical-align: middle;\n",
              "    }\n",
              "\n",
              "    .dataframe tbody tr th {\n",
              "        vertical-align: top;\n",
              "    }\n",
              "\n",
              "    .dataframe thead th {\n",
              "        text-align: right;\n",
              "    }\n",
              "</style>\n",
              "<table border=\"1\" class=\"dataframe\">\n",
              "  <thead>\n",
              "    <tr style=\"text-align: right;\">\n",
              "      <th></th>\n",
              "      <th>order_id</th>\n",
              "      <th>user_id</th>\n",
              "      <th>eval_set</th>\n",
              "      <th>order_number</th>\n",
              "      <th>order_dow</th>\n",
              "      <th>order_hour_of_day</th>\n",
              "      <th>days_since_prior_order</th>\n",
              "    </tr>\n",
              "  </thead>\n",
              "  <tbody>\n",
              "    <tr>\n",
              "      <th>2746364</th>\n",
              "      <td>2609484</td>\n",
              "      <td>165479</td>\n",
              "      <td>prior</td>\n",
              "      <td>44</td>\n",
              "      <td>3</td>\n",
              "      <td>9</td>\n",
              "      <td>2.0</td>\n",
              "    </tr>\n",
              "    <tr>\n",
              "      <th>678433</th>\n",
              "      <td>1844563</td>\n",
              "      <td>40898</td>\n",
              "      <td>prior</td>\n",
              "      <td>11</td>\n",
              "      <td>0</td>\n",
              "      <td>19</td>\n",
              "      <td>30.0</td>\n",
              "    </tr>\n",
              "    <tr>\n",
              "      <th>1026874</th>\n",
              "      <td>3229582</td>\n",
              "      <td>61738</td>\n",
              "      <td>prior</td>\n",
              "      <td>46</td>\n",
              "      <td>2</td>\n",
              "      <td>16</td>\n",
              "      <td>8.0</td>\n",
              "    </tr>\n",
              "    <tr>\n",
              "      <th>280670</th>\n",
              "      <td>1810151</td>\n",
              "      <td>16971</td>\n",
              "      <td>prior</td>\n",
              "      <td>17</td>\n",
              "      <td>1</td>\n",
              "      <td>17</td>\n",
              "      <td>8.0</td>\n",
              "    </tr>\n",
              "    <tr>\n",
              "      <th>1275025</th>\n",
              "      <td>1957387</td>\n",
              "      <td>76678</td>\n",
              "      <td>prior</td>\n",
              "      <td>57</td>\n",
              "      <td>4</td>\n",
              "      <td>11</td>\n",
              "      <td>3.0</td>\n",
              "    </tr>\n",
              "  </tbody>\n",
              "</table>\n",
              "</div>"
            ],
            "text/plain": [
              "         order_id  user_id  ... order_hour_of_day  days_since_prior_order\n",
              "2746364   2609484   165479  ...                 9                     2.0\n",
              "678433    1844563    40898  ...                19                    30.0\n",
              "1026874   3229582    61738  ...                16                     8.0\n",
              "280670    1810151    16971  ...                17                     8.0\n",
              "1275025   1957387    76678  ...                11                     3.0\n",
              "\n",
              "[5 rows x 7 columns]"
            ]
          },
          "metadata": {
            "tags": []
          },
          "execution_count": 15
        }
      ]
    },
    {
      "cell_type": "code",
      "metadata": {
        "id": "4zk6XFkHMoPE",
        "colab_type": "code",
        "colab": {
          "base_uri": "https://localhost:8080/",
          "height": 203
        },
        "outputId": "a7b7ed98-f913-4f6f-d95b-7a983b6bb6dd"
      },
      "source": [
        "checkData('departments')"
      ],
      "execution_count": 11,
      "outputs": [
        {
          "output_type": "execute_result",
          "data": {
            "text/html": [
              "<div>\n",
              "<style scoped>\n",
              "    .dataframe tbody tr th:only-of-type {\n",
              "        vertical-align: middle;\n",
              "    }\n",
              "\n",
              "    .dataframe tbody tr th {\n",
              "        vertical-align: top;\n",
              "    }\n",
              "\n",
              "    .dataframe thead th {\n",
              "        text-align: right;\n",
              "    }\n",
              "</style>\n",
              "<table border=\"1\" class=\"dataframe\">\n",
              "  <thead>\n",
              "    <tr style=\"text-align: right;\">\n",
              "      <th></th>\n",
              "      <th>department_id</th>\n",
              "      <th>department</th>\n",
              "    </tr>\n",
              "  </thead>\n",
              "  <tbody>\n",
              "    <tr>\n",
              "      <th>11</th>\n",
              "      <td>12</td>\n",
              "      <td>meat seafood</td>\n",
              "    </tr>\n",
              "    <tr>\n",
              "      <th>17</th>\n",
              "      <td>18</td>\n",
              "      <td>babies</td>\n",
              "    </tr>\n",
              "    <tr>\n",
              "      <th>10</th>\n",
              "      <td>11</td>\n",
              "      <td>personal care</td>\n",
              "    </tr>\n",
              "    <tr>\n",
              "      <th>4</th>\n",
              "      <td>5</td>\n",
              "      <td>alcohol</td>\n",
              "    </tr>\n",
              "    <tr>\n",
              "      <th>2</th>\n",
              "      <td>3</td>\n",
              "      <td>bakery</td>\n",
              "    </tr>\n",
              "  </tbody>\n",
              "</table>\n",
              "</div>"
            ],
            "text/plain": [
              "    department_id     department\n",
              "11             12   meat seafood\n",
              "17             18         babies\n",
              "10             11  personal care\n",
              "4               5        alcohol\n",
              "2               3         bakery"
            ]
          },
          "metadata": {
            "tags": []
          },
          "execution_count": 11
        }
      ]
    },
    {
      "cell_type": "code",
      "metadata": {
        "id": "QoW1Jq2SMn8l",
        "colab_type": "code",
        "colab": {
          "base_uri": "https://localhost:8080/",
          "height": 203
        },
        "outputId": "ac86ca6b-99d5-4907-8211-352f33113194"
      },
      "source": [
        "checkData('order_products__train')"
      ],
      "execution_count": 14,
      "outputs": [
        {
          "output_type": "execute_result",
          "data": {
            "text/html": [
              "<div>\n",
              "<style scoped>\n",
              "    .dataframe tbody tr th:only-of-type {\n",
              "        vertical-align: middle;\n",
              "    }\n",
              "\n",
              "    .dataframe tbody tr th {\n",
              "        vertical-align: top;\n",
              "    }\n",
              "\n",
              "    .dataframe thead th {\n",
              "        text-align: right;\n",
              "    }\n",
              "</style>\n",
              "<table border=\"1\" class=\"dataframe\">\n",
              "  <thead>\n",
              "    <tr style=\"text-align: right;\">\n",
              "      <th></th>\n",
              "      <th>order_id</th>\n",
              "      <th>product_id</th>\n",
              "      <th>add_to_cart_order</th>\n",
              "      <th>reordered</th>\n",
              "    </tr>\n",
              "  </thead>\n",
              "  <tbody>\n",
              "    <tr>\n",
              "      <th>370745</th>\n",
              "      <td>905030</td>\n",
              "      <td>8587</td>\n",
              "      <td>1</td>\n",
              "      <td>0</td>\n",
              "    </tr>\n",
              "    <tr>\n",
              "      <th>301643</th>\n",
              "      <td>734750</td>\n",
              "      <td>13517</td>\n",
              "      <td>15</td>\n",
              "      <td>1</td>\n",
              "    </tr>\n",
              "    <tr>\n",
              "      <th>457294</th>\n",
              "      <td>1119519</td>\n",
              "      <td>25075</td>\n",
              "      <td>7</td>\n",
              "      <td>0</td>\n",
              "    </tr>\n",
              "    <tr>\n",
              "      <th>650948</th>\n",
              "      <td>1601863</td>\n",
              "      <td>11710</td>\n",
              "      <td>1</td>\n",
              "      <td>1</td>\n",
              "    </tr>\n",
              "    <tr>\n",
              "      <th>1264270</th>\n",
              "      <td>3123549</td>\n",
              "      <td>3988</td>\n",
              "      <td>10</td>\n",
              "      <td>1</td>\n",
              "    </tr>\n",
              "  </tbody>\n",
              "</table>\n",
              "</div>"
            ],
            "text/plain": [
              "         order_id  product_id  add_to_cart_order  reordered\n",
              "370745     905030        8587                  1          0\n",
              "301643     734750       13517                 15          1\n",
              "457294    1119519       25075                  7          0\n",
              "650948    1601863       11710                  1          1\n",
              "1264270   3123549        3988                 10          1"
            ]
          },
          "metadata": {
            "tags": []
          },
          "execution_count": 14
        }
      ]
    },
    {
      "cell_type": "code",
      "metadata": {
        "id": "x2-yzHzNMoFa",
        "colab_type": "code",
        "colab": {
          "base_uri": "https://localhost:8080/",
          "height": 203
        },
        "outputId": "ba569e85-b298-4b06-eac9-4b3c47487063"
      },
      "source": [
        "checkData('order_products__prior')"
      ],
      "execution_count": 12,
      "outputs": [
        {
          "output_type": "execute_result",
          "data": {
            "text/html": [
              "<div>\n",
              "<style scoped>\n",
              "    .dataframe tbody tr th:only-of-type {\n",
              "        vertical-align: middle;\n",
              "    }\n",
              "\n",
              "    .dataframe tbody tr th {\n",
              "        vertical-align: top;\n",
              "    }\n",
              "\n",
              "    .dataframe thead th {\n",
              "        text-align: right;\n",
              "    }\n",
              "</style>\n",
              "<table border=\"1\" class=\"dataframe\">\n",
              "  <thead>\n",
              "    <tr style=\"text-align: right;\">\n",
              "      <th></th>\n",
              "      <th>order_id</th>\n",
              "      <th>product_id</th>\n",
              "      <th>add_to_cart_order</th>\n",
              "      <th>reordered</th>\n",
              "    </tr>\n",
              "  </thead>\n",
              "  <tbody>\n",
              "    <tr>\n",
              "      <th>13249593</th>\n",
              "      <td>1398281</td>\n",
              "      <td>23720</td>\n",
              "      <td>12</td>\n",
              "      <td>0</td>\n",
              "    </tr>\n",
              "    <tr>\n",
              "      <th>920061</th>\n",
              "      <td>97243</td>\n",
              "      <td>34022</td>\n",
              "      <td>6</td>\n",
              "      <td>0</td>\n",
              "    </tr>\n",
              "    <tr>\n",
              "      <th>19478174</th>\n",
              "      <td>2054423</td>\n",
              "      <td>48028</td>\n",
              "      <td>1</td>\n",
              "      <td>1</td>\n",
              "    </tr>\n",
              "    <tr>\n",
              "      <th>22624487</th>\n",
              "      <td>2386294</td>\n",
              "      <td>260</td>\n",
              "      <td>1</td>\n",
              "      <td>0</td>\n",
              "    </tr>\n",
              "    <tr>\n",
              "      <th>23369397</th>\n",
              "      <td>2464758</td>\n",
              "      <td>14814</td>\n",
              "      <td>8</td>\n",
              "      <td>1</td>\n",
              "    </tr>\n",
              "  </tbody>\n",
              "</table>\n",
              "</div>"
            ],
            "text/plain": [
              "          order_id  product_id  add_to_cart_order  reordered\n",
              "13249593   1398281       23720                 12          0\n",
              "920061       97243       34022                  6          0\n",
              "19478174   2054423       48028                  1          1\n",
              "22624487   2386294         260                  1          0\n",
              "23369397   2464758       14814                  8          1"
            ]
          },
          "metadata": {
            "tags": []
          },
          "execution_count": 12
        }
      ]
    },
    {
      "cell_type": "code",
      "metadata": {
        "id": "laVhGsLvM0-w",
        "colab_type": "code",
        "colab": {
          "base_uri": "https://localhost:8080/",
          "height": 203
        },
        "outputId": "db51a0ca-6874-488d-a284-b86ef33ba713"
      },
      "source": [
        "checkData('products')"
      ],
      "execution_count": 16,
      "outputs": [
        {
          "output_type": "execute_result",
          "data": {
            "text/html": [
              "<div>\n",
              "<style scoped>\n",
              "    .dataframe tbody tr th:only-of-type {\n",
              "        vertical-align: middle;\n",
              "    }\n",
              "\n",
              "    .dataframe tbody tr th {\n",
              "        vertical-align: top;\n",
              "    }\n",
              "\n",
              "    .dataframe thead th {\n",
              "        text-align: right;\n",
              "    }\n",
              "</style>\n",
              "<table border=\"1\" class=\"dataframe\">\n",
              "  <thead>\n",
              "    <tr style=\"text-align: right;\">\n",
              "      <th></th>\n",
              "      <th>product_id</th>\n",
              "      <th>product_name</th>\n",
              "      <th>aisle_id</th>\n",
              "      <th>department_id</th>\n",
              "    </tr>\n",
              "  </thead>\n",
              "  <tbody>\n",
              "    <tr>\n",
              "      <th>17479</th>\n",
              "      <td>17480</td>\n",
              "      <td>Pure-Castile Soap 18-in-1 Hemp Tea Tree</td>\n",
              "      <td>25</td>\n",
              "      <td>11</td>\n",
              "    </tr>\n",
              "    <tr>\n",
              "      <th>42524</th>\n",
              "      <td>42525</td>\n",
              "      <td>IncrediBites for Small Dogs</td>\n",
              "      <td>40</td>\n",
              "      <td>8</td>\n",
              "    </tr>\n",
              "    <tr>\n",
              "      <th>37187</th>\n",
              "      <td>37188</td>\n",
              "      <td>Organic Lori's Lemon Tea</td>\n",
              "      <td>94</td>\n",
              "      <td>7</td>\n",
              "    </tr>\n",
              "    <tr>\n",
              "      <th>30447</th>\n",
              "      <td>30448</td>\n",
              "      <td>Just Honeycrisp Apples</td>\n",
              "      <td>92</td>\n",
              "      <td>18</td>\n",
              "    </tr>\n",
              "    <tr>\n",
              "      <th>42177</th>\n",
              "      <td>42178</td>\n",
              "      <td>White Tea, White Peony</td>\n",
              "      <td>94</td>\n",
              "      <td>7</td>\n",
              "    </tr>\n",
              "  </tbody>\n",
              "</table>\n",
              "</div>"
            ],
            "text/plain": [
              "       product_id  ... department_id\n",
              "17479       17480  ...            11\n",
              "42524       42525  ...             8\n",
              "37187       37188  ...             7\n",
              "30447       30448  ...            18\n",
              "42177       42178  ...             7\n",
              "\n",
              "[5 rows x 4 columns]"
            ]
          },
          "metadata": {
            "tags": []
          },
          "execution_count": 16
        }
      ]
    },
    {
      "cell_type": "markdown",
      "metadata": {
        "id": "9jSLkQUSN2KL",
        "colab_type": "text"
      },
      "source": [
        "### 1. Write down which columns you need and which dataframes have them."
      ]
    },
    {
      "cell_type": "markdown",
      "metadata": {
        "id": "qU1hfstNPHex",
        "colab_type": "text"
      },
      "source": [
        "> product_name - products.csv\n",
        "\n",
        "> product_id - order_products__prior\n",
        "\n",
        "> order_id - order_products_prior"
      ]
    },
    {
      "cell_type": "code",
      "metadata": {
        "id": "KE_5VAbHSeP4",
        "colab_type": "code",
        "colab": {}
      },
      "source": [
        "# Make a df I can call for the products csv\n",
        "prod_df = pd.read_csv('products.csv')"
      ],
      "execution_count": 0,
      "outputs": []
    },
    {
      "cell_type": "code",
      "metadata": {
        "id": "6hqWf_1aCq3I",
        "colab_type": "code",
        "colab": {}
      },
      "source": [
        "# Same for order_products_prior csv\n",
        "opp_df = pd.read_csv('order_products__prior.csv')"
      ],
      "execution_count": 0,
      "outputs": []
    },
    {
      "cell_type": "markdown",
      "metadata": {
        "id": "Dfo9-CU1OFSZ",
        "colab_type": "text"
      },
      "source": [
        "### 2. Merge these into a single dataframe."
      ]
    },
    {
      "cell_type": "code",
      "metadata": {
        "id": "Bu1Yo7GOR2K1",
        "colab_type": "code",
        "colab": {
          "base_uri": "https://localhost:8080/",
          "height": 203
        },
        "outputId": "9a6a14f2-6cc1-481f-e30e-4aaaf2e33ff8"
      },
      "source": [
        "# Merged the to dataframes together inner so it only keep the like values I don't think the added NaN will be helpful\n",
        "fullord = pd.merge(opp_df, prod_df, on='product_id', how='inner')\n",
        "fullord.head()"
      ],
      "execution_count": 10,
      "outputs": [
        {
          "output_type": "execute_result",
          "data": {
            "text/html": [
              "<div>\n",
              "<style scoped>\n",
              "    .dataframe tbody tr th:only-of-type {\n",
              "        vertical-align: middle;\n",
              "    }\n",
              "\n",
              "    .dataframe tbody tr th {\n",
              "        vertical-align: top;\n",
              "    }\n",
              "\n",
              "    .dataframe thead th {\n",
              "        text-align: right;\n",
              "    }\n",
              "</style>\n",
              "<table border=\"1\" class=\"dataframe\">\n",
              "  <thead>\n",
              "    <tr style=\"text-align: right;\">\n",
              "      <th></th>\n",
              "      <th>order_id</th>\n",
              "      <th>product_id</th>\n",
              "      <th>add_to_cart_order</th>\n",
              "      <th>reordered</th>\n",
              "      <th>product_name</th>\n",
              "      <th>aisle_id</th>\n",
              "      <th>department_id</th>\n",
              "    </tr>\n",
              "  </thead>\n",
              "  <tbody>\n",
              "    <tr>\n",
              "      <th>0</th>\n",
              "      <td>2</td>\n",
              "      <td>33120</td>\n",
              "      <td>1</td>\n",
              "      <td>1</td>\n",
              "      <td>Organic Egg Whites</td>\n",
              "      <td>86</td>\n",
              "      <td>16</td>\n",
              "    </tr>\n",
              "    <tr>\n",
              "      <th>1</th>\n",
              "      <td>26</td>\n",
              "      <td>33120</td>\n",
              "      <td>5</td>\n",
              "      <td>0</td>\n",
              "      <td>Organic Egg Whites</td>\n",
              "      <td>86</td>\n",
              "      <td>16</td>\n",
              "    </tr>\n",
              "    <tr>\n",
              "      <th>2</th>\n",
              "      <td>120</td>\n",
              "      <td>33120</td>\n",
              "      <td>13</td>\n",
              "      <td>0</td>\n",
              "      <td>Organic Egg Whites</td>\n",
              "      <td>86</td>\n",
              "      <td>16</td>\n",
              "    </tr>\n",
              "    <tr>\n",
              "      <th>3</th>\n",
              "      <td>327</td>\n",
              "      <td>33120</td>\n",
              "      <td>5</td>\n",
              "      <td>1</td>\n",
              "      <td>Organic Egg Whites</td>\n",
              "      <td>86</td>\n",
              "      <td>16</td>\n",
              "    </tr>\n",
              "    <tr>\n",
              "      <th>4</th>\n",
              "      <td>390</td>\n",
              "      <td>33120</td>\n",
              "      <td>28</td>\n",
              "      <td>1</td>\n",
              "      <td>Organic Egg Whites</td>\n",
              "      <td>86</td>\n",
              "      <td>16</td>\n",
              "    </tr>\n",
              "  </tbody>\n",
              "</table>\n",
              "</div>"
            ],
            "text/plain": [
              "   order_id  product_id  ...  aisle_id  department_id\n",
              "0         2       33120  ...        86             16\n",
              "1        26       33120  ...        86             16\n",
              "2       120       33120  ...        86             16\n",
              "3       327       33120  ...        86             16\n",
              "4       390       33120  ...        86             16\n",
              "\n",
              "[5 rows x 7 columns]"
            ]
          },
          "metadata": {
            "tags": []
          },
          "execution_count": 10
        }
      ]
    },
    {
      "cell_type": "code",
      "metadata": {
        "id": "LAryLtMuLi5S",
        "colab_type": "code",
        "colab": {}
      },
      "source": [
        "zoomFullOrd = fullord.drop(['add_to_cart_order', 'reordered', 'aisle_id', 'department_id'], axis=1)"
      ],
      "execution_count": 0,
      "outputs": []
    },
    {
      "cell_type": "markdown",
      "metadata": {
        "id": "3I-BUs8NOOi9",
        "colab_type": "text"
      },
      "source": [
        "### 3. Use pandas functions from the previous lesson to get the counts of the top 10 most frequently ordered products."
      ]
    },
    {
      "cell_type": "code",
      "metadata": {
        "id": "epudgtVeLXU4",
        "colab_type": "code",
        "colab": {
          "base_uri": "https://localhost:8080/",
          "height": 193
        },
        "outputId": "b20be9e0-4fdb-4494-9007-7ba3f2ed0f6d"
      },
      "source": [
        "# I need the 10 most frequently ordered products represented as n\n",
        "n = 10\n",
        "# On the product_name column give me all the unique(in order by most called) values up to the n(10)th one then display it in a list\n",
        "zoomFullOrd['product_name'].value_counts()[:n].index.tolist()"
      ],
      "execution_count": 22,
      "outputs": [
        {
          "output_type": "execute_result",
          "data": {
            "text/plain": [
              "['Banana',\n",
              " 'Bag of Organic Bananas',\n",
              " 'Organic Strawberries',\n",
              " 'Organic Baby Spinach',\n",
              " 'Organic Hass Avocado',\n",
              " 'Organic Avocado',\n",
              " 'Large Lemon',\n",
              " 'Strawberries',\n",
              " 'Limes',\n",
              " 'Organic Whole Milk']"
            ]
          },
          "metadata": {
            "tags": []
          },
          "execution_count": 22
        }
      ]
    },
    {
      "cell_type": "markdown",
      "metadata": {
        "id": "RsiWi4DuXPLP",
        "colab_type": "text"
      },
      "source": [
        "## Reshape Data Section\n",
        "- Complete the code cells we skipped near the beginning of the notebook\n",
        "- Table 2 --> Tidy\n",
        "- Tidy --> Table 2\n",
        "- Load seaborn's `flights` dataset by running the cell below. Then create a pivot table showing the number of passengers by month and year. Use year for the index and month for the columns. You've done it right if you get 112 passengers for January 1949 and 432 passengers for December 1960."
      ]
    },
    {
      "cell_type": "markdown",
      "metadata": {
        "id": "Y7wK6Pv5dqU6",
        "colab_type": "text"
      },
      "source": [
        "**1. Replicate the lesson code.**"
      ]
    },
    {
      "cell_type": "code",
      "metadata": {
        "id": "I-erI4PjZ3X4",
        "colab_type": "code",
        "colab": {
          "base_uri": "https://localhost:8080/",
          "height": 141
        },
        "outputId": "fb4887aa-40ed-4b50-c11b-128e1e4ff96e"
      },
      "source": [
        "# Replicated the lesson code.\n",
        "\n",
        "myindex=['John Smith', 'Jane Doe', 'Mary Johnson']\n",
        "mycolumns=['treatmenta', 'treatmentb']\n",
        "\n",
        "table1 = pd.DataFrame(\n",
        "            [[np.nan, 2],\n",
        "             [16, 11],\n",
        "             [3, 1]],\n",
        "          columns=mycolumns,\n",
        "        index=myindex\n",
        ")\n",
        "table1"
      ],
      "execution_count": 30,
      "outputs": [
        {
          "output_type": "execute_result",
          "data": {
            "text/html": [
              "<div>\n",
              "<style scoped>\n",
              "    .dataframe tbody tr th:only-of-type {\n",
              "        vertical-align: middle;\n",
              "    }\n",
              "\n",
              "    .dataframe tbody tr th {\n",
              "        vertical-align: top;\n",
              "    }\n",
              "\n",
              "    .dataframe thead th {\n",
              "        text-align: right;\n",
              "    }\n",
              "</style>\n",
              "<table border=\"1\" class=\"dataframe\">\n",
              "  <thead>\n",
              "    <tr style=\"text-align: right;\">\n",
              "      <th></th>\n",
              "      <th>treatmenta</th>\n",
              "      <th>treatmentb</th>\n",
              "    </tr>\n",
              "  </thead>\n",
              "  <tbody>\n",
              "    <tr>\n",
              "      <th>John Smith</th>\n",
              "      <td>NaN</td>\n",
              "      <td>2</td>\n",
              "    </tr>\n",
              "    <tr>\n",
              "      <th>Jane Doe</th>\n",
              "      <td>16.0</td>\n",
              "      <td>11</td>\n",
              "    </tr>\n",
              "    <tr>\n",
              "      <th>Mary Johnson</th>\n",
              "      <td>3.0</td>\n",
              "      <td>1</td>\n",
              "    </tr>\n",
              "  </tbody>\n",
              "</table>\n",
              "</div>"
            ],
            "text/plain": [
              "              treatmenta  treatmentb\n",
              "John Smith           NaN           2\n",
              "Jane Doe            16.0          11\n",
              "Mary Johnson         3.0           1"
            ]
          },
          "metadata": {
            "tags": []
          },
          "execution_count": 30
        }
      ]
    },
    {
      "cell_type": "code",
      "metadata": {
        "id": "jRS85a5ffWgK",
        "colab_type": "code",
        "colab": {
          "base_uri": "https://localhost:8080/",
          "height": 141
        },
        "outputId": "7e8d80e6-50fd-4a92-9e87-30ff7bc491f2"
      },
      "source": [
        "table1 = table1.reset_index()\n",
        "table1"
      ],
      "execution_count": 31,
      "outputs": [
        {
          "output_type": "execute_result",
          "data": {
            "text/html": [
              "<div>\n",
              "<style scoped>\n",
              "    .dataframe tbody tr th:only-of-type {\n",
              "        vertical-align: middle;\n",
              "    }\n",
              "\n",
              "    .dataframe tbody tr th {\n",
              "        vertical-align: top;\n",
              "    }\n",
              "\n",
              "    .dataframe thead th {\n",
              "        text-align: right;\n",
              "    }\n",
              "</style>\n",
              "<table border=\"1\" class=\"dataframe\">\n",
              "  <thead>\n",
              "    <tr style=\"text-align: right;\">\n",
              "      <th></th>\n",
              "      <th>index</th>\n",
              "      <th>treatmenta</th>\n",
              "      <th>treatmentb</th>\n",
              "    </tr>\n",
              "  </thead>\n",
              "  <tbody>\n",
              "    <tr>\n",
              "      <th>0</th>\n",
              "      <td>John Smith</td>\n",
              "      <td>NaN</td>\n",
              "      <td>2</td>\n",
              "    </tr>\n",
              "    <tr>\n",
              "      <th>1</th>\n",
              "      <td>Jane Doe</td>\n",
              "      <td>16.0</td>\n",
              "      <td>11</td>\n",
              "    </tr>\n",
              "    <tr>\n",
              "      <th>2</th>\n",
              "      <td>Mary Johnson</td>\n",
              "      <td>3.0</td>\n",
              "      <td>1</td>\n",
              "    </tr>\n",
              "  </tbody>\n",
              "</table>\n",
              "</div>"
            ],
            "text/plain": [
              "          index  treatmenta  treatmentb\n",
              "0    John Smith         NaN           2\n",
              "1      Jane Doe        16.0          11\n",
              "2  Mary Johnson         3.0           1"
            ]
          },
          "metadata": {
            "tags": []
          },
          "execution_count": 31
        }
      ]
    },
    {
      "cell_type": "code",
      "metadata": {
        "id": "aUoGhJgeikjD",
        "colab_type": "code",
        "colab": {
          "base_uri": "https://localhost:8080/",
          "height": 233
        },
        "outputId": "bd917fe8-a873-433d-8364-d28e901b934d"
      },
      "source": [
        "tidy = table1.melt(id_vars='index', value_vars=['treatmenta', 'treatmentb'])\n",
        "tidy"
      ],
      "execution_count": 33,
      "outputs": [
        {
          "output_type": "execute_result",
          "data": {
            "text/html": [
              "<div>\n",
              "<style scoped>\n",
              "    .dataframe tbody tr th:only-of-type {\n",
              "        vertical-align: middle;\n",
              "    }\n",
              "\n",
              "    .dataframe tbody tr th {\n",
              "        vertical-align: top;\n",
              "    }\n",
              "\n",
              "    .dataframe thead th {\n",
              "        text-align: right;\n",
              "    }\n",
              "</style>\n",
              "<table border=\"1\" class=\"dataframe\">\n",
              "  <thead>\n",
              "    <tr style=\"text-align: right;\">\n",
              "      <th></th>\n",
              "      <th>index</th>\n",
              "      <th>variable</th>\n",
              "      <th>value</th>\n",
              "    </tr>\n",
              "  </thead>\n",
              "  <tbody>\n",
              "    <tr>\n",
              "      <th>0</th>\n",
              "      <td>John Smith</td>\n",
              "      <td>treatmenta</td>\n",
              "      <td>NaN</td>\n",
              "    </tr>\n",
              "    <tr>\n",
              "      <th>1</th>\n",
              "      <td>Jane Doe</td>\n",
              "      <td>treatmenta</td>\n",
              "      <td>16.0</td>\n",
              "    </tr>\n",
              "    <tr>\n",
              "      <th>2</th>\n",
              "      <td>Mary Johnson</td>\n",
              "      <td>treatmenta</td>\n",
              "      <td>3.0</td>\n",
              "    </tr>\n",
              "    <tr>\n",
              "      <th>3</th>\n",
              "      <td>John Smith</td>\n",
              "      <td>treatmentb</td>\n",
              "      <td>2.0</td>\n",
              "    </tr>\n",
              "    <tr>\n",
              "      <th>4</th>\n",
              "      <td>Jane Doe</td>\n",
              "      <td>treatmentb</td>\n",
              "      <td>11.0</td>\n",
              "    </tr>\n",
              "    <tr>\n",
              "      <th>5</th>\n",
              "      <td>Mary Johnson</td>\n",
              "      <td>treatmentb</td>\n",
              "      <td>1.0</td>\n",
              "    </tr>\n",
              "  </tbody>\n",
              "</table>\n",
              "</div>"
            ],
            "text/plain": [
              "          index    variable  value\n",
              "0    John Smith  treatmenta    NaN\n",
              "1      Jane Doe  treatmenta   16.0\n",
              "2  Mary Johnson  treatmenta    3.0\n",
              "3    John Smith  treatmentb    2.0\n",
              "4      Jane Doe  treatmentb   11.0\n",
              "5  Mary Johnson  treatmentb    1.0"
            ]
          },
          "metadata": {
            "tags": []
          },
          "execution_count": 33
        }
      ]
    },
    {
      "cell_type": "code",
      "metadata": {
        "id": "RNxXIx8tjhlI",
        "colab_type": "code",
        "colab": {
          "base_uri": "https://localhost:8080/",
          "height": 233
        },
        "outputId": "66c75d4a-a747-40ee-ccc7-604e2e123018"
      },
      "source": [
        "tidy.rename(columns={'index':'Name', 'variable':'Trt', 'value':'Results'})"
      ],
      "execution_count": 34,
      "outputs": [
        {
          "output_type": "execute_result",
          "data": {
            "text/html": [
              "<div>\n",
              "<style scoped>\n",
              "    .dataframe tbody tr th:only-of-type {\n",
              "        vertical-align: middle;\n",
              "    }\n",
              "\n",
              "    .dataframe tbody tr th {\n",
              "        vertical-align: top;\n",
              "    }\n",
              "\n",
              "    .dataframe thead th {\n",
              "        text-align: right;\n",
              "    }\n",
              "</style>\n",
              "<table border=\"1\" class=\"dataframe\">\n",
              "  <thead>\n",
              "    <tr style=\"text-align: right;\">\n",
              "      <th></th>\n",
              "      <th>Name</th>\n",
              "      <th>Trt</th>\n",
              "      <th>Results</th>\n",
              "    </tr>\n",
              "  </thead>\n",
              "  <tbody>\n",
              "    <tr>\n",
              "      <th>0</th>\n",
              "      <td>John Smith</td>\n",
              "      <td>treatmenta</td>\n",
              "      <td>NaN</td>\n",
              "    </tr>\n",
              "    <tr>\n",
              "      <th>1</th>\n",
              "      <td>Jane Doe</td>\n",
              "      <td>treatmenta</td>\n",
              "      <td>16.0</td>\n",
              "    </tr>\n",
              "    <tr>\n",
              "      <th>2</th>\n",
              "      <td>Mary Johnson</td>\n",
              "      <td>treatmenta</td>\n",
              "      <td>3.0</td>\n",
              "    </tr>\n",
              "    <tr>\n",
              "      <th>3</th>\n",
              "      <td>John Smith</td>\n",
              "      <td>treatmentb</td>\n",
              "      <td>2.0</td>\n",
              "    </tr>\n",
              "    <tr>\n",
              "      <th>4</th>\n",
              "      <td>Jane Doe</td>\n",
              "      <td>treatmentb</td>\n",
              "      <td>11.0</td>\n",
              "    </tr>\n",
              "    <tr>\n",
              "      <th>5</th>\n",
              "      <td>Mary Johnson</td>\n",
              "      <td>treatmentb</td>\n",
              "      <td>1.0</td>\n",
              "    </tr>\n",
              "  </tbody>\n",
              "</table>\n",
              "</div>"
            ],
            "text/plain": [
              "           Name         Trt  Results\n",
              "0    John Smith  treatmenta      NaN\n",
              "1      Jane Doe  treatmenta     16.0\n",
              "2  Mary Johnson  treatmenta      3.0\n",
              "3    John Smith  treatmentb      2.0\n",
              "4      Jane Doe  treatmentb     11.0\n",
              "5  Mary Johnson  treatmentb      1.0"
            ]
          },
          "metadata": {
            "tags": []
          },
          "execution_count": 34
        }
      ]
    },
    {
      "cell_type": "markdown",
      "metadata": {
        "id": "lnnNTYq7foP9",
        "colab_type": "text"
      },
      "source": [
        "**2. Tidy --> Table 2**"
      ]
    },
    {
      "cell_type": "code",
      "metadata": {
        "id": "--dQzOlsfzC8",
        "colab_type": "code",
        "colab": {}
      },
      "source": [
        ""
      ],
      "execution_count": 0,
      "outputs": []
    },
    {
      "cell_type": "markdown",
      "metadata": {
        "id": "O8eSfLoKfzny",
        "colab_type": "text"
      },
      "source": [
        "### Flights dataset pivot table"
      ]
    },
    {
      "cell_type": "markdown",
      "metadata": {
        "id": "3Do50Me-gVTB",
        "colab_type": "text"
      },
      "source": [
        "**1. Load flights dataset**"
      ]
    },
    {
      "cell_type": "code",
      "metadata": {
        "id": "fgxulJQq0uLw",
        "colab_type": "code",
        "colab": {}
      },
      "source": [
        "flights = sns.load_dataset('flights')"
      ],
      "execution_count": 0,
      "outputs": []
    },
    {
      "cell_type": "markdown",
      "metadata": {
        "id": "oQ-MzC8NghWH",
        "colab_type": "text"
      },
      "source": [
        "**2. Create pivots table showing the number of passengers by months and year. index = year | column = months**"
      ]
    },
    {
      "cell_type": "code",
      "metadata": {
        "id": "cQ7cbEjmggs-",
        "colab_type": "code",
        "colab": {}
      },
      "source": [
        ""
      ],
      "execution_count": 0,
      "outputs": []
    },
    {
      "cell_type": "markdown",
      "metadata": {
        "id": "mnOuqL9K0dqh",
        "colab_type": "text"
      },
      "source": [
        "## Join Data Stretch Challenge\n",
        "\n",
        "The [Instacart blog post](https://tech.instacart.com/3-million-instacart-orders-open-sourced-d40d29ead6f2) has a visualization of \"**Popular products** purchased earliest in the day (green) and latest in the day (red).\" \n",
        "\n",
        "The post says,\n",
        "\n",
        "> \"We can also see the time of day that users purchase specific products.\n",
        "\n",
        "> Healthier snacks and staples tend to be purchased earlier in the day, whereas ice cream (especially Half Baked and The Tonight Dough) are far more popular when customers are ordering in the evening.\n",
        "\n",
        "> **In fact, of the top 25 latest ordered products, the first 24 are ice cream! The last one, of course, is a frozen pizza.**\"\n",
        "\n",
        "Your challenge is to reproduce the list of the top 25 latest ordered popular products.\n",
        "\n",
        "We'll define \"popular products\" as products with more than 2,900 orders.\n",
        "\n"
      ]
    },
    {
      "cell_type": "code",
      "metadata": {
        "id": "B-QNMrVkYap4",
        "colab_type": "code",
        "colab": {}
      },
      "source": [
        "##### YOUR CODE HERE #####"
      ],
      "execution_count": 0,
      "outputs": []
    },
    {
      "cell_type": "markdown",
      "metadata": {
        "id": "Ij8S60q0YXxo",
        "colab_type": "text"
      },
      "source": [
        "## Reshape Data Stretch Challenge\n",
        "\n",
        "_Try whatever sounds most interesting to you!_\n",
        "\n",
        "- Replicate more of Instacart's visualization showing \"Hour of Day Ordered\" vs \"Percent of Orders by Product\"\n",
        "- Replicate parts of the other visualization from [Instacart's blog post](https://tech.instacart.com/3-million-instacart-orders-open-sourced-d40d29ead6f2), showing \"Number of Purchases\" vs \"Percent Reorder Purchases\"\n",
        "- Get the most recent order for each user in Instacart's dataset. This is a useful baseline when [predicting a user's next order](https://www.kaggle.com/c/instacart-market-basket-analysis)\n",
        "- Replicate parts of the blog post linked at the top of this notebook: [Modern Pandas, Part 5: Tidy Data](https://tomaugspurger.github.io/modern-5-tidy.html)"
      ]
    },
    {
      "cell_type": "code",
      "metadata": {
        "id": "_d6IA2R0YXFY",
        "colab_type": "code",
        "colab": {}
      },
      "source": [
        "##### YOUR CODE HERE #####"
      ],
      "execution_count": 0,
      "outputs": []
    }
  ]
}